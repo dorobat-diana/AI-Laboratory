{
  "cells": [
    {
      "cell_type": "markdown",
      "metadata": {
        "id": "view-in-github",
        "colab_type": "text"
      },
      "source": [
        "<a href=\"https://colab.research.google.com/github/dorobat-diana/AI-Laboratory/blob/main/T5Base_BBC_News_Summary.ipynb\" target=\"_parent\"><img src=\"https://colab.research.google.com/assets/colab-badge.svg\" alt=\"Open In Colab\"/></a>"
      ]
    },
    {
      "cell_type": "code",
      "execution_count": null,
      "id": "855f7b3b",
      "metadata": {
        "execution": {
          "iopub.execute_input": "2023-11-29T13:02:51.583320Z",
          "iopub.status.busy": "2023-11-29T13:02:51.582829Z",
          "iopub.status.idle": "2023-11-29T13:04:43.373309Z",
          "shell.execute_reply": "2023-11-29T13:04:43.371866Z"
        },
        "id": "855f7b3b",
        "outputId": "5b0de402-ee36-4332-e387-33f0ebf9ea6b",
        "papermill": {
          "duration": 111.840231,
          "end_time": "2023-11-29T13:04:43.375868",
          "exception": false,
          "start_time": "2023-11-29T13:02:51.535637",
          "status": "completed"
        },
        "scrolled": true,
        "tags": [],
        "colab": {
          "base_uri": "https://localhost:8080/"
        }
      },
      "outputs": [
        {
          "output_type": "stream",
          "name": "stdout",
          "text": [
            "Requirement already satisfied: transformers in /usr/local/lib/python3.11/dist-packages (4.49.0)\n",
            "Requirement already satisfied: filelock in /usr/local/lib/python3.11/dist-packages (from transformers) (3.17.0)\n",
            "Requirement already satisfied: huggingface-hub<1.0,>=0.26.0 in /usr/local/lib/python3.11/dist-packages (from transformers) (0.28.1)\n",
            "Requirement already satisfied: numpy>=1.17 in /usr/local/lib/python3.11/dist-packages (from transformers) (1.26.4)\n",
            "Requirement already satisfied: packaging>=20.0 in /usr/local/lib/python3.11/dist-packages (from transformers) (24.2)\n",
            "Requirement already satisfied: pyyaml>=5.1 in /usr/local/lib/python3.11/dist-packages (from transformers) (6.0.2)\n",
            "Requirement already satisfied: regex!=2019.12.17 in /usr/local/lib/python3.11/dist-packages (from transformers) (2024.11.6)\n",
            "Requirement already satisfied: requests in /usr/local/lib/python3.11/dist-packages (from transformers) (2.32.3)\n",
            "Requirement already satisfied: tokenizers<0.22,>=0.21 in /usr/local/lib/python3.11/dist-packages (from transformers) (0.21.0)\n",
            "Requirement already satisfied: safetensors>=0.4.1 in /usr/local/lib/python3.11/dist-packages (from transformers) (0.5.3)\n",
            "Requirement already satisfied: tqdm>=4.27 in /usr/local/lib/python3.11/dist-packages (from transformers) (4.67.1)\n",
            "Requirement already satisfied: fsspec>=2023.5.0 in /usr/local/lib/python3.11/dist-packages (from huggingface-hub<1.0,>=0.26.0->transformers) (2024.10.0)\n",
            "Requirement already satisfied: typing-extensions>=3.7.4.3 in /usr/local/lib/python3.11/dist-packages (from huggingface-hub<1.0,>=0.26.0->transformers) (4.12.2)\n",
            "Requirement already satisfied: charset-normalizer<4,>=2 in /usr/local/lib/python3.11/dist-packages (from requests->transformers) (3.4.1)\n",
            "Requirement already satisfied: idna<4,>=2.5 in /usr/local/lib/python3.11/dist-packages (from requests->transformers) (3.10)\n",
            "Requirement already satisfied: urllib3<3,>=1.21.1 in /usr/local/lib/python3.11/dist-packages (from requests->transformers) (2.3.0)\n",
            "Requirement already satisfied: certifi>=2017.4.17 in /usr/local/lib/python3.11/dist-packages (from requests->transformers) (2025.1.31)\n",
            "Requirement already satisfied: datasets in /usr/local/lib/python3.11/dist-packages (3.3.2)\n",
            "Requirement already satisfied: filelock in /usr/local/lib/python3.11/dist-packages (from datasets) (3.17.0)\n",
            "Requirement already satisfied: numpy>=1.17 in /usr/local/lib/python3.11/dist-packages (from datasets) (1.26.4)\n",
            "Requirement already satisfied: pyarrow>=15.0.0 in /usr/local/lib/python3.11/dist-packages (from datasets) (18.1.0)\n",
            "Requirement already satisfied: dill<0.3.9,>=0.3.0 in /usr/local/lib/python3.11/dist-packages (from datasets) (0.3.8)\n",
            "Requirement already satisfied: pandas in /usr/local/lib/python3.11/dist-packages (from datasets) (2.2.2)\n",
            "Requirement already satisfied: requests>=2.32.2 in /usr/local/lib/python3.11/dist-packages (from datasets) (2.32.3)\n",
            "Requirement already satisfied: tqdm>=4.66.3 in /usr/local/lib/python3.11/dist-packages (from datasets) (4.67.1)\n",
            "Requirement already satisfied: xxhash in /usr/local/lib/python3.11/dist-packages (from datasets) (3.5.0)\n",
            "Requirement already satisfied: multiprocess<0.70.17 in /usr/local/lib/python3.11/dist-packages (from datasets) (0.70.16)\n",
            "Requirement already satisfied: fsspec<=2024.12.0,>=2023.1.0 in /usr/local/lib/python3.11/dist-packages (from fsspec[http]<=2024.12.0,>=2023.1.0->datasets) (2024.10.0)\n",
            "Requirement already satisfied: aiohttp in /usr/local/lib/python3.11/dist-packages (from datasets) (3.11.13)\n",
            "Requirement already satisfied: huggingface-hub>=0.24.0 in /usr/local/lib/python3.11/dist-packages (from datasets) (0.28.1)\n",
            "Requirement already satisfied: packaging in /usr/local/lib/python3.11/dist-packages (from datasets) (24.2)\n",
            "Requirement already satisfied: pyyaml>=5.1 in /usr/local/lib/python3.11/dist-packages (from datasets) (6.0.2)\n",
            "Requirement already satisfied: aiohappyeyeballs>=2.3.0 in /usr/local/lib/python3.11/dist-packages (from aiohttp->datasets) (2.5.0)\n",
            "Requirement already satisfied: aiosignal>=1.1.2 in /usr/local/lib/python3.11/dist-packages (from aiohttp->datasets) (1.3.2)\n",
            "Requirement already satisfied: attrs>=17.3.0 in /usr/local/lib/python3.11/dist-packages (from aiohttp->datasets) (25.1.0)\n",
            "Requirement already satisfied: frozenlist>=1.1.1 in /usr/local/lib/python3.11/dist-packages (from aiohttp->datasets) (1.5.0)\n",
            "Requirement already satisfied: multidict<7.0,>=4.5 in /usr/local/lib/python3.11/dist-packages (from aiohttp->datasets) (6.1.0)\n",
            "Requirement already satisfied: propcache>=0.2.0 in /usr/local/lib/python3.11/dist-packages (from aiohttp->datasets) (0.3.0)\n",
            "Requirement already satisfied: yarl<2.0,>=1.17.0 in /usr/local/lib/python3.11/dist-packages (from aiohttp->datasets) (1.18.3)\n",
            "Requirement already satisfied: typing-extensions>=3.7.4.3 in /usr/local/lib/python3.11/dist-packages (from huggingface-hub>=0.24.0->datasets) (4.12.2)\n",
            "Requirement already satisfied: charset-normalizer<4,>=2 in /usr/local/lib/python3.11/dist-packages (from requests>=2.32.2->datasets) (3.4.1)\n",
            "Requirement already satisfied: idna<4,>=2.5 in /usr/local/lib/python3.11/dist-packages (from requests>=2.32.2->datasets) (3.10)\n",
            "Requirement already satisfied: urllib3<3,>=1.21.1 in /usr/local/lib/python3.11/dist-packages (from requests>=2.32.2->datasets) (2.3.0)\n",
            "Requirement already satisfied: certifi>=2017.4.17 in /usr/local/lib/python3.11/dist-packages (from requests>=2.32.2->datasets) (2025.1.31)\n",
            "Requirement already satisfied: python-dateutil>=2.8.2 in /usr/local/lib/python3.11/dist-packages (from pandas->datasets) (2.8.2)\n",
            "Requirement already satisfied: pytz>=2020.1 in /usr/local/lib/python3.11/dist-packages (from pandas->datasets) (2025.1)\n",
            "Requirement already satisfied: tzdata>=2022.7 in /usr/local/lib/python3.11/dist-packages (from pandas->datasets) (2025.1)\n",
            "Requirement already satisfied: six>=1.5 in /usr/local/lib/python3.11/dist-packages (from python-dateutil>=2.8.2->pandas->datasets) (1.17.0)\n",
            "Requirement already satisfied: tensorboard in /usr/local/lib/python3.11/dist-packages (2.18.0)\n",
            "Requirement already satisfied: absl-py>=0.4 in /usr/local/lib/python3.11/dist-packages (from tensorboard) (1.4.0)\n",
            "Requirement already satisfied: grpcio>=1.48.2 in /usr/local/lib/python3.11/dist-packages (from tensorboard) (1.70.0)\n",
            "Requirement already satisfied: markdown>=2.6.8 in /usr/local/lib/python3.11/dist-packages (from tensorboard) (3.7)\n",
            "Requirement already satisfied: numpy>=1.12.0 in /usr/local/lib/python3.11/dist-packages (from tensorboard) (1.26.4)\n",
            "Requirement already satisfied: packaging in /usr/local/lib/python3.11/dist-packages (from tensorboard) (24.2)\n",
            "Requirement already satisfied: protobuf!=4.24.0,>=3.19.6 in /usr/local/lib/python3.11/dist-packages (from tensorboard) (4.25.6)\n",
            "Requirement already satisfied: setuptools>=41.0.0 in /usr/local/lib/python3.11/dist-packages (from tensorboard) (75.1.0)\n",
            "Requirement already satisfied: six>1.9 in /usr/local/lib/python3.11/dist-packages (from tensorboard) (1.17.0)\n",
            "Requirement already satisfied: tensorboard-data-server<0.8.0,>=0.7.0 in /usr/local/lib/python3.11/dist-packages (from tensorboard) (0.7.2)\n",
            "Requirement already satisfied: werkzeug>=1.0.1 in /usr/local/lib/python3.11/dist-packages (from tensorboard) (3.1.3)\n",
            "Requirement already satisfied: MarkupSafe>=2.1.1 in /usr/local/lib/python3.11/dist-packages (from werkzeug>=1.0.1->tensorboard) (3.0.2)\n",
            "Requirement already satisfied: sentencepiece in /usr/local/lib/python3.11/dist-packages (0.2.0)\n",
            "Requirement already satisfied: accelerate in /usr/local/lib/python3.11/dist-packages (1.3.0)\n",
            "Requirement already satisfied: numpy<3.0.0,>=1.17 in /usr/local/lib/python3.11/dist-packages (from accelerate) (1.26.4)\n",
            "Requirement already satisfied: packaging>=20.0 in /usr/local/lib/python3.11/dist-packages (from accelerate) (24.2)\n",
            "Requirement already satisfied: psutil in /usr/local/lib/python3.11/dist-packages (from accelerate) (5.9.5)\n",
            "Requirement already satisfied: pyyaml in /usr/local/lib/python3.11/dist-packages (from accelerate) (6.0.2)\n",
            "Requirement already satisfied: torch>=2.0.0 in /usr/local/lib/python3.11/dist-packages (from accelerate) (2.5.1+cu124)\n",
            "Requirement already satisfied: huggingface-hub>=0.21.0 in /usr/local/lib/python3.11/dist-packages (from accelerate) (0.28.1)\n",
            "Requirement already satisfied: safetensors>=0.4.3 in /usr/local/lib/python3.11/dist-packages (from accelerate) (0.5.3)\n",
            "Requirement already satisfied: filelock in /usr/local/lib/python3.11/dist-packages (from huggingface-hub>=0.21.0->accelerate) (3.17.0)\n",
            "Requirement already satisfied: fsspec>=2023.5.0 in /usr/local/lib/python3.11/dist-packages (from huggingface-hub>=0.21.0->accelerate) (2024.10.0)\n",
            "Requirement already satisfied: requests in /usr/local/lib/python3.11/dist-packages (from huggingface-hub>=0.21.0->accelerate) (2.32.3)\n",
            "Requirement already satisfied: tqdm>=4.42.1 in /usr/local/lib/python3.11/dist-packages (from huggingface-hub>=0.21.0->accelerate) (4.67.1)\n",
            "Requirement already satisfied: typing-extensions>=3.7.4.3 in /usr/local/lib/python3.11/dist-packages (from huggingface-hub>=0.21.0->accelerate) (4.12.2)\n",
            "Requirement already satisfied: networkx in /usr/local/lib/python3.11/dist-packages (from torch>=2.0.0->accelerate) (3.4.2)\n",
            "Requirement already satisfied: jinja2 in /usr/local/lib/python3.11/dist-packages (from torch>=2.0.0->accelerate) (3.1.6)\n",
            "Requirement already satisfied: nvidia-cuda-nvrtc-cu12==12.4.127 in /usr/local/lib/python3.11/dist-packages (from torch>=2.0.0->accelerate) (12.4.127)\n",
            "Requirement already satisfied: nvidia-cuda-runtime-cu12==12.4.127 in /usr/local/lib/python3.11/dist-packages (from torch>=2.0.0->accelerate) (12.4.127)\n",
            "Requirement already satisfied: nvidia-cuda-cupti-cu12==12.4.127 in /usr/local/lib/python3.11/dist-packages (from torch>=2.0.0->accelerate) (12.4.127)\n",
            "Requirement already satisfied: nvidia-cudnn-cu12==9.1.0.70 in /usr/local/lib/python3.11/dist-packages (from torch>=2.0.0->accelerate) (9.1.0.70)\n",
            "Requirement already satisfied: nvidia-cublas-cu12==12.4.5.8 in /usr/local/lib/python3.11/dist-packages (from torch>=2.0.0->accelerate) (12.4.5.8)\n",
            "Requirement already satisfied: nvidia-cufft-cu12==11.2.1.3 in /usr/local/lib/python3.11/dist-packages (from torch>=2.0.0->accelerate) (11.2.1.3)\n",
            "Requirement already satisfied: nvidia-curand-cu12==10.3.5.147 in /usr/local/lib/python3.11/dist-packages (from torch>=2.0.0->accelerate) (10.3.5.147)\n",
            "Requirement already satisfied: nvidia-cusolver-cu12==11.6.1.9 in /usr/local/lib/python3.11/dist-packages (from torch>=2.0.0->accelerate) (11.6.1.9)\n",
            "Requirement already satisfied: nvidia-cusparse-cu12==12.3.1.170 in /usr/local/lib/python3.11/dist-packages (from torch>=2.0.0->accelerate) (12.3.1.170)\n",
            "Requirement already satisfied: nvidia-nccl-cu12==2.21.5 in /usr/local/lib/python3.11/dist-packages (from torch>=2.0.0->accelerate) (2.21.5)\n",
            "Requirement already satisfied: nvidia-nvtx-cu12==12.4.127 in /usr/local/lib/python3.11/dist-packages (from torch>=2.0.0->accelerate) (12.4.127)\n",
            "Requirement already satisfied: nvidia-nvjitlink-cu12==12.4.127 in /usr/local/lib/python3.11/dist-packages (from torch>=2.0.0->accelerate) (12.4.127)\n",
            "Requirement already satisfied: triton==3.1.0 in /usr/local/lib/python3.11/dist-packages (from torch>=2.0.0->accelerate) (3.1.0)\n",
            "Requirement already satisfied: sympy==1.13.1 in /usr/local/lib/python3.11/dist-packages (from torch>=2.0.0->accelerate) (1.13.1)\n",
            "Requirement already satisfied: mpmath<1.4,>=1.1.0 in /usr/local/lib/python3.11/dist-packages (from sympy==1.13.1->torch>=2.0.0->accelerate) (1.3.0)\n",
            "Requirement already satisfied: MarkupSafe>=2.0 in /usr/local/lib/python3.11/dist-packages (from jinja2->torch>=2.0.0->accelerate) (3.0.2)\n",
            "Requirement already satisfied: charset-normalizer<4,>=2 in /usr/local/lib/python3.11/dist-packages (from requests->huggingface-hub>=0.21.0->accelerate) (3.4.1)\n",
            "Requirement already satisfied: idna<4,>=2.5 in /usr/local/lib/python3.11/dist-packages (from requests->huggingface-hub>=0.21.0->accelerate) (3.10)\n",
            "Requirement already satisfied: urllib3<3,>=1.21.1 in /usr/local/lib/python3.11/dist-packages (from requests->huggingface-hub>=0.21.0->accelerate) (2.3.0)\n",
            "Requirement already satisfied: certifi>=2017.4.17 in /usr/local/lib/python3.11/dist-packages (from requests->huggingface-hub>=0.21.0->accelerate) (2025.1.31)\n",
            "Requirement already satisfied: evaluate in /usr/local/lib/python3.11/dist-packages (0.4.3)\n",
            "Requirement already satisfied: datasets>=2.0.0 in /usr/local/lib/python3.11/dist-packages (from evaluate) (3.3.2)\n",
            "Requirement already satisfied: numpy>=1.17 in /usr/local/lib/python3.11/dist-packages (from evaluate) (1.26.4)\n",
            "Requirement already satisfied: dill in /usr/local/lib/python3.11/dist-packages (from evaluate) (0.3.8)\n",
            "Requirement already satisfied: pandas in /usr/local/lib/python3.11/dist-packages (from evaluate) (2.2.2)\n",
            "Requirement already satisfied: requests>=2.19.0 in /usr/local/lib/python3.11/dist-packages (from evaluate) (2.32.3)\n",
            "Requirement already satisfied: tqdm>=4.62.1 in /usr/local/lib/python3.11/dist-packages (from evaluate) (4.67.1)\n",
            "Requirement already satisfied: xxhash in /usr/local/lib/python3.11/dist-packages (from evaluate) (3.5.0)\n",
            "Requirement already satisfied: multiprocess in /usr/local/lib/python3.11/dist-packages (from evaluate) (0.70.16)\n",
            "Requirement already satisfied: fsspec>=2021.05.0 in /usr/local/lib/python3.11/dist-packages (from fsspec[http]>=2021.05.0->evaluate) (2024.10.0)\n",
            "Requirement already satisfied: huggingface-hub>=0.7.0 in /usr/local/lib/python3.11/dist-packages (from evaluate) (0.28.1)\n",
            "Requirement already satisfied: packaging in /usr/local/lib/python3.11/dist-packages (from evaluate) (24.2)\n",
            "Requirement already satisfied: filelock in /usr/local/lib/python3.11/dist-packages (from datasets>=2.0.0->evaluate) (3.17.0)\n",
            "Requirement already satisfied: pyarrow>=15.0.0 in /usr/local/lib/python3.11/dist-packages (from datasets>=2.0.0->evaluate) (18.1.0)\n",
            "Requirement already satisfied: aiohttp in /usr/local/lib/python3.11/dist-packages (from datasets>=2.0.0->evaluate) (3.11.13)\n",
            "Requirement already satisfied: pyyaml>=5.1 in /usr/local/lib/python3.11/dist-packages (from datasets>=2.0.0->evaluate) (6.0.2)\n",
            "Requirement already satisfied: typing-extensions>=3.7.4.3 in /usr/local/lib/python3.11/dist-packages (from huggingface-hub>=0.7.0->evaluate) (4.12.2)\n",
            "Requirement already satisfied: charset-normalizer<4,>=2 in /usr/local/lib/python3.11/dist-packages (from requests>=2.19.0->evaluate) (3.4.1)\n",
            "Requirement already satisfied: idna<4,>=2.5 in /usr/local/lib/python3.11/dist-packages (from requests>=2.19.0->evaluate) (3.10)\n",
            "Requirement already satisfied: urllib3<3,>=1.21.1 in /usr/local/lib/python3.11/dist-packages (from requests>=2.19.0->evaluate) (2.3.0)\n",
            "Requirement already satisfied: certifi>=2017.4.17 in /usr/local/lib/python3.11/dist-packages (from requests>=2.19.0->evaluate) (2025.1.31)\n",
            "Requirement already satisfied: python-dateutil>=2.8.2 in /usr/local/lib/python3.11/dist-packages (from pandas->evaluate) (2.8.2)\n",
            "Requirement already satisfied: pytz>=2020.1 in /usr/local/lib/python3.11/dist-packages (from pandas->evaluate) (2025.1)\n",
            "Requirement already satisfied: tzdata>=2022.7 in /usr/local/lib/python3.11/dist-packages (from pandas->evaluate) (2025.1)\n",
            "Requirement already satisfied: aiohappyeyeballs>=2.3.0 in /usr/local/lib/python3.11/dist-packages (from aiohttp->datasets>=2.0.0->evaluate) (2.5.0)\n",
            "Requirement already satisfied: aiosignal>=1.1.2 in /usr/local/lib/python3.11/dist-packages (from aiohttp->datasets>=2.0.0->evaluate) (1.3.2)\n",
            "Requirement already satisfied: attrs>=17.3.0 in /usr/local/lib/python3.11/dist-packages (from aiohttp->datasets>=2.0.0->evaluate) (25.1.0)\n",
            "Requirement already satisfied: frozenlist>=1.1.1 in /usr/local/lib/python3.11/dist-packages (from aiohttp->datasets>=2.0.0->evaluate) (1.5.0)\n",
            "Requirement already satisfied: multidict<7.0,>=4.5 in /usr/local/lib/python3.11/dist-packages (from aiohttp->datasets>=2.0.0->evaluate) (6.1.0)\n",
            "Requirement already satisfied: propcache>=0.2.0 in /usr/local/lib/python3.11/dist-packages (from aiohttp->datasets>=2.0.0->evaluate) (0.3.0)\n",
            "Requirement already satisfied: yarl<2.0,>=1.17.0 in /usr/local/lib/python3.11/dist-packages (from aiohttp->datasets>=2.0.0->evaluate) (1.18.3)\n",
            "Requirement already satisfied: six>=1.5 in /usr/local/lib/python3.11/dist-packages (from python-dateutil>=2.8.2->pandas->evaluate) (1.17.0)\n",
            "Requirement already satisfied: rouge_score in /usr/local/lib/python3.11/dist-packages (0.1.2)\n",
            "Requirement already satisfied: absl-py in /usr/local/lib/python3.11/dist-packages (from rouge_score) (1.4.0)\n",
            "Requirement already satisfied: nltk in /usr/local/lib/python3.11/dist-packages (from rouge_score) (3.9.1)\n",
            "Requirement already satisfied: numpy in /usr/local/lib/python3.11/dist-packages (from rouge_score) (1.26.4)\n",
            "Requirement already satisfied: six>=1.14.0 in /usr/local/lib/python3.11/dist-packages (from rouge_score) (1.17.0)\n",
            "Requirement already satisfied: click in /usr/local/lib/python3.11/dist-packages (from nltk->rouge_score) (8.1.8)\n",
            "Requirement already satisfied: joblib in /usr/local/lib/python3.11/dist-packages (from nltk->rouge_score) (1.4.2)\n",
            "Requirement already satisfied: regex>=2021.8.3 in /usr/local/lib/python3.11/dist-packages (from nltk->rouge_score) (2024.11.6)\n",
            "Requirement already satisfied: tqdm in /usr/local/lib/python3.11/dist-packages (from nltk->rouge_score) (4.67.1)\n"
          ]
        }
      ],
      "source": [
        "!pip install -U transformers\n",
        "!pip install -U datasets\n",
        "!pip install tensorboard\n",
        "!pip install sentencepiece\n",
        "!pip install accelerate\n",
        "!pip install evaluate\n",
        "!pip install rouge_score"
      ]
    },
    {
      "cell_type": "markdown",
      "id": "f17f4135",
      "metadata": {
        "id": "f17f4135",
        "papermill": {
          "duration": 0.049679,
          "end_time": "2023-11-29T13:04:43.475654",
          "exception": false,
          "start_time": "2023-11-29T13:04:43.425975",
          "status": "completed"
        },
        "tags": []
      },
      "source": [
        "## Imports"
      ]
    },
    {
      "cell_type": "code",
      "execution_count": null,
      "id": "e07f4846",
      "metadata": {
        "execution": {
          "iopub.execute_input": "2023-11-29T13:04:43.638645Z",
          "iopub.status.busy": "2023-11-29T13:04:43.637634Z",
          "iopub.status.idle": "2023-11-29T13:05:05.380931Z",
          "shell.execute_reply": "2023-11-29T13:05:05.380053Z"
        },
        "id": "e07f4846",
        "papermill": {
          "duration": 21.856563,
          "end_time": "2023-11-29T13:05:05.383808",
          "exception": false,
          "start_time": "2023-11-29T13:04:43.527245",
          "status": "completed"
        },
        "tags": []
      },
      "outputs": [],
      "source": [
        "import torch\n",
        "import pprint\n",
        "import evaluate\n",
        "import numpy as np\n",
        "\n",
        "from transformers import (\n",
        "    T5Tokenizer,\n",
        "    T5ForConditionalGeneration,\n",
        "    TrainingArguments,\n",
        "    Trainer\n",
        ")\n",
        "from datasets import load_dataset"
      ]
    },
    {
      "cell_type": "code",
      "execution_count": null,
      "id": "3b5335f4",
      "metadata": {
        "execution": {
          "iopub.execute_input": "2023-11-29T13:05:05.489409Z",
          "iopub.status.busy": "2023-11-29T13:05:05.488425Z",
          "iopub.status.idle": "2023-11-29T13:05:05.494018Z",
          "shell.execute_reply": "2023-11-29T13:05:05.493043Z"
        },
        "id": "3b5335f4",
        "papermill": {
          "duration": 0.060037,
          "end_time": "2023-11-29T13:05:05.496276",
          "exception": false,
          "start_time": "2023-11-29T13:05:05.436239",
          "status": "completed"
        },
        "tags": []
      },
      "outputs": [],
      "source": [
        "pp = pprint.PrettyPrinter()"
      ]
    },
    {
      "cell_type": "markdown",
      "id": "5d05564b",
      "metadata": {
        "id": "5d05564b",
        "papermill": {
          "duration": 0.049217,
          "end_time": "2023-11-29T13:05:05.596127",
          "exception": false,
          "start_time": "2023-11-29T13:05:05.546910",
          "status": "completed"
        },
        "tags": []
      },
      "source": [
        "## Prepare Dataset"
      ]
    },
    {
      "cell_type": "code",
      "execution_count": null,
      "id": "5fb82bbb",
      "metadata": {
        "execution": {
          "iopub.execute_input": "2023-11-29T13:05:05.695620Z",
          "iopub.status.busy": "2023-11-29T13:05:05.695225Z",
          "iopub.status.idle": "2023-11-29T13:05:07.376775Z",
          "shell.execute_reply": "2023-11-29T13:05:07.375555Z"
        },
        "papermill": {
          "duration": 1.73411,
          "end_time": "2023-11-29T13:05:07.379206",
          "exception": false,
          "start_time": "2023-11-29T13:05:05.645096",
          "status": "completed"
        },
        "tags": [],
        "id": "5fb82bbb"
      },
      "outputs": [],
      "source": [
        "dataset = load_dataset('gopalkalpande/bbc-news-summary', split='train')"
      ]
    },
    {
      "cell_type": "code",
      "execution_count": null,
      "id": "1b3ef04c",
      "metadata": {
        "execution": {
          "iopub.execute_input": "2023-11-29T13:05:07.482467Z",
          "iopub.status.busy": "2023-11-29T13:05:07.481480Z",
          "iopub.status.idle": "2023-11-29T13:05:07.496660Z",
          "shell.execute_reply": "2023-11-29T13:05:07.495648Z"
        },
        "id": "1b3ef04c",
        "papermill": {
          "duration": 0.069614,
          "end_time": "2023-11-29T13:05:07.498941",
          "exception": false,
          "start_time": "2023-11-29T13:05:07.429327",
          "status": "completed"
        },
        "tags": []
      },
      "outputs": [],
      "source": [
        "full_dataset = dataset.train_test_split(test_size=0.2, shuffle=True)"
      ]
    },
    {
      "cell_type": "code",
      "execution_count": null,
      "id": "bacc85a7",
      "metadata": {
        "execution": {
          "iopub.execute_input": "2023-11-29T13:05:07.603898Z",
          "iopub.status.busy": "2023-11-29T13:05:07.602947Z",
          "iopub.status.idle": "2023-11-29T13:05:07.608025Z",
          "shell.execute_reply": "2023-11-29T13:05:07.606981Z"
        },
        "papermill": {
          "duration": 0.059713,
          "end_time": "2023-11-29T13:05:07.610298",
          "exception": false,
          "start_time": "2023-11-29T13:05:07.550585",
          "status": "completed"
        },
        "tags": [],
        "id": "bacc85a7"
      },
      "outputs": [],
      "source": [
        "dataset_train = full_dataset['train']\n",
        "dataset_valid = full_dataset['test']"
      ]
    },
    {
      "cell_type": "code",
      "execution_count": null,
      "id": "7791ec1d",
      "metadata": {
        "execution": {
          "iopub.execute_input": "2023-11-29T13:05:07.716267Z",
          "iopub.status.busy": "2023-11-29T13:05:07.715871Z",
          "iopub.status.idle": "2023-11-29T13:05:07.721401Z",
          "shell.execute_reply": "2023-11-29T13:05:07.720412Z"
        },
        "id": "7791ec1d",
        "outputId": "31a73e4e-86dd-4858-a6ef-2af2bd64b82d",
        "papermill": {
          "duration": 0.062019,
          "end_time": "2023-11-29T13:05:07.724031",
          "exception": false,
          "start_time": "2023-11-29T13:05:07.662012",
          "status": "completed"
        },
        "tags": [],
        "colab": {
          "base_uri": "https://localhost:8080/"
        }
      },
      "outputs": [
        {
          "output_type": "stream",
          "name": "stdout",
          "text": [
            "Dataset({\n",
            "    features: ['File_path', 'Articles', 'Summaries'],\n",
            "    num_rows: 1779\n",
            "})\n",
            "Dataset({\n",
            "    features: ['File_path', 'Articles', 'Summaries'],\n",
            "    num_rows: 445\n",
            "})\n"
          ]
        }
      ],
      "source": [
        "print(dataset_train)\n",
        "print(dataset_valid)"
      ]
    },
    {
      "cell_type": "markdown",
      "id": "043e5c49",
      "metadata": {
        "id": "043e5c49",
        "papermill": {
          "duration": 0.050139,
          "end_time": "2023-11-29T13:05:07.826482",
          "exception": false,
          "start_time": "2023-11-29T13:05:07.776343",
          "status": "completed"
        },
        "tags": []
      },
      "source": [
        "## Dataset Analysis"
      ]
    },
    {
      "cell_type": "code",
      "execution_count": null,
      "id": "a79090cd",
      "metadata": {
        "execution": {
          "iopub.execute_input": "2023-11-29T13:05:07.925715Z",
          "iopub.status.busy": "2023-11-29T13:05:07.925336Z",
          "iopub.status.idle": "2023-11-29T13:05:08.083681Z",
          "shell.execute_reply": "2023-11-29T13:05:08.082340Z"
        },
        "id": "a79090cd",
        "outputId": "2bc28235-37e8-4f2d-e40d-9d149ce56638",
        "papermill": {
          "duration": 0.211488,
          "end_time": "2023-11-29T13:05:08.086070",
          "exception": false,
          "start_time": "2023-11-29T13:05:07.874582",
          "status": "completed"
        },
        "tags": [],
        "colab": {
          "base_uri": "https://localhost:8080/"
        }
      },
      "outputs": [
        {
          "output_type": "stream",
          "name": "stdout",
          "text": [
            "Longest article length: 4377 words\n",
            "Artciles larger than 4000 words: 1\n",
            "Artciles larger than 2000 words: 6\n",
            "Artciles larger than 1000 words: 17\n",
            "Artciles larger than 500 words: 352\n",
            "Longest summary length: 2073 words\n",
            "Summaries larger than 4000 words: 0\n",
            "Summaries larger than 2000 words: 1\n",
            "Summaries larger than 1000 words: 6\n",
            "Summaries larger than 500 words: 14\n"
          ]
        }
      ],
      "source": [
        "def find_longest_length(dataset):\n",
        "    \"\"\"\n",
        "    Find the longest article and summary in the entire training set.\n",
        "    \"\"\"\n",
        "    max_length = 0\n",
        "    counter_4k = 0\n",
        "    counter_2k = 0\n",
        "    counter_1k = 0\n",
        "    counter_500 = 0\n",
        "    for text in dataset:\n",
        "        corpus = [\n",
        "            word for word in text.split()\n",
        "        ]\n",
        "        if len(corpus) > 4000:\n",
        "            counter_4k += 1\n",
        "        if len(corpus) > 2000:\n",
        "            counter_2k += 1\n",
        "        if len(corpus) > 1000:\n",
        "            counter_1k += 1\n",
        "        if len(corpus) > 500:\n",
        "            counter_500 += 1\n",
        "        if len(corpus) > max_length:\n",
        "            max_length = len(corpus)\n",
        "    return max_length, counter_4k, counter_2k, counter_1k, counter_500\n",
        "\n",
        "longest_article_length, counter_4k, counter_2k, counter_1k, counter_500 = find_longest_length(dataset_train['Articles'])\n",
        "print(f\"Longest article length: {longest_article_length} words\")\n",
        "print(f\"Artciles larger than 4000 words: {counter_4k}\")\n",
        "print(f\"Artciles larger than 2000 words: {counter_2k}\")\n",
        "print(f\"Artciles larger than 1000 words: {counter_1k}\")\n",
        "print(f\"Artciles larger than 500 words: {counter_500}\")\n",
        "longest_summary_length, counter_4k, counter_2k, counter_1k, counter_500 = find_longest_length(dataset_train['Summaries'])\n",
        "print(f\"Longest summary length: {longest_summary_length} words\")\n",
        "print(f\"Summaries larger than 4000 words: {counter_4k}\")\n",
        "print(f\"Summaries larger than 2000 words: {counter_2k}\")\n",
        "print(f\"Summaries larger than 1000 words: {counter_1k}\")\n",
        "print(f\"Summaries larger than 500 words: {counter_500}\")"
      ]
    },
    {
      "cell_type": "code",
      "execution_count": null,
      "id": "7fdf0407",
      "metadata": {
        "execution": {
          "iopub.execute_input": "2023-11-29T13:05:08.192258Z",
          "iopub.status.busy": "2023-11-29T13:05:08.191873Z",
          "iopub.status.idle": "2023-11-29T13:05:08.347111Z",
          "shell.execute_reply": "2023-11-29T13:05:08.345891Z"
        },
        "id": "7fdf0407",
        "outputId": "edbcd444-371a-4faa-a469-a1b83b9487ba",
        "papermill": {
          "duration": 0.210304,
          "end_time": "2023-11-29T13:05:08.349422",
          "exception": false,
          "start_time": "2023-11-29T13:05:08.139118",
          "status": "completed"
        },
        "tags": [],
        "colab": {
          "base_uri": "https://localhost:8080/"
        }
      },
      "outputs": [
        {
          "output_type": "stream",
          "name": "stdout",
          "text": [
            "Average article length: 378.96795952782463 words\n",
            "Averrage summary length: 165.33670601461495 words\n"
          ]
        }
      ],
      "source": [
        "def find_avg_sentence_length(dataset):\n",
        "    \"\"\"\n",
        "    Find the average sentence in the entire training set.\n",
        "    \"\"\"\n",
        "    sentence_lengths = []\n",
        "    for text in dataset:\n",
        "        corpus = [\n",
        "            word for word in text.split()\n",
        "        ]\n",
        "        sentence_lengths.append(len(corpus))\n",
        "    return sum(sentence_lengths)/len(sentence_lengths)\n",
        "\n",
        "avg_article_length = find_avg_sentence_length(dataset_train['Articles'])\n",
        "print(f\"Average article length: {avg_article_length} words\")\n",
        "avg_summary_length = find_avg_sentence_length(dataset_train['Summaries'])\n",
        "print(f\"Averrage summary length: {avg_summary_length} words\")"
      ]
    },
    {
      "cell_type": "markdown",
      "id": "bf760fe9",
      "metadata": {
        "id": "bf760fe9",
        "papermill": {
          "duration": 0.049171,
          "end_time": "2023-11-29T13:05:08.449381",
          "exception": false,
          "start_time": "2023-11-29T13:05:08.400210",
          "status": "completed"
        },
        "tags": []
      },
      "source": [
        "## Configurations"
      ]
    },
    {
      "cell_type": "code",
      "execution_count": null,
      "id": "ffcb012e",
      "metadata": {
        "execution": {
          "iopub.execute_input": "2023-11-29T13:05:08.558354Z",
          "iopub.status.busy": "2023-11-29T13:05:08.557478Z",
          "iopub.status.idle": "2023-11-29T13:05:08.562905Z",
          "shell.execute_reply": "2023-11-29T13:05:08.561866Z"
        },
        "id": "ffcb012e",
        "papermill": {
          "duration": 0.06107,
          "end_time": "2023-11-29T13:05:08.565035",
          "exception": false,
          "start_time": "2023-11-29T13:05:08.503965",
          "status": "completed"
        },
        "tags": []
      },
      "outputs": [],
      "source": [
        "MODEL = 't5-base'\n",
        "BATCH_SIZE = 4\n",
        "NUM_PROCS = 4\n",
        "EPOCHS = 10\n",
        "OUT_DIR = 'results_t5base'\n",
        "MAX_LENGTH = 512 # Maximum context length to consider while preparing dataset."
      ]
    },
    {
      "cell_type": "markdown",
      "id": "8d9becbb",
      "metadata": {
        "id": "8d9becbb",
        "papermill": {
          "duration": 0.052431,
          "end_time": "2023-11-29T13:05:08.670909",
          "exception": false,
          "start_time": "2023-11-29T13:05:08.618478",
          "status": "completed"
        },
        "tags": []
      },
      "source": [
        "## Tokenization"
      ]
    },
    {
      "cell_type": "code",
      "execution_count": null,
      "id": "c18dcd2e",
      "metadata": {
        "execution": {
          "iopub.execute_input": "2023-11-29T13:05:08.779039Z",
          "iopub.status.busy": "2023-11-29T13:05:08.778654Z",
          "iopub.status.idle": "2023-11-29T13:05:09.581580Z",
          "shell.execute_reply": "2023-11-29T13:05:09.580518Z"
        },
        "id": "c18dcd2e",
        "papermill": {
          "duration": 0.859621,
          "end_time": "2023-11-29T13:05:09.584289",
          "exception": false,
          "start_time": "2023-11-29T13:05:08.724668",
          "status": "completed"
        },
        "tags": []
      },
      "outputs": [],
      "source": [
        "tokenizer = T5Tokenizer.from_pretrained(MODEL)"
      ]
    },
    {
      "cell_type": "code",
      "execution_count": null,
      "id": "b6c89b9b",
      "metadata": {
        "execution": {
          "iopub.execute_input": "2023-11-29T13:05:09.693545Z",
          "iopub.status.busy": "2023-11-29T13:05:09.693101Z",
          "iopub.status.idle": "2023-11-29T13:05:15.853801Z",
          "shell.execute_reply": "2023-11-29T13:05:15.852748Z"
        },
        "id": "b6c89b9b",
        "outputId": "b5e406ed-5f45-4e6a-ae5d-04102484bd2a",
        "papermill": {
          "duration": 6.217573,
          "end_time": "2023-11-29T13:05:15.856237",
          "exception": false,
          "start_time": "2023-11-29T13:05:09.638664",
          "status": "completed"
        },
        "tags": [],
        "colab": {
          "base_uri": "https://localhost:8080/",
          "height": 379,
          "referenced_widgets": [
            "33cd72e07cf4491f80ad57a6cb80ca27",
            "0cb40f2195974d44a7e0d950d6a3369f",
            "c1584071c49040e4851cec8b67d319d5",
            "a8c4ab1746bf44eabdc7be209652ab43",
            "a581714df5ef4dc2ba7374fafa0c9ece",
            "4e448c4150b94e4587ea6a28d0cfd25f",
            "d67fc5a010404136a48ecacfd112838c",
            "cdacbf392a954206a9664703d5bb7669",
            "8d28aa45583f43808b6f37a058a16d09",
            "e1b0adc1f49f4c75b1bd6391237e2f24",
            "fcbf336eafe040ba85355a29e723e389",
            "bc8f2618b9bc43218f46f02f0e961074",
            "649d7fddecf14517a26e2540a3694ff8",
            "6f9f28cd53c341659c9986aab091dcbb",
            "c48f6518ab544e56a20a37f4f7b5ed8d",
            "b8447839618d41dc8ad4fe12b136892a",
            "c476beaa53764c2f9f23e8e1469f0c7c",
            "3fb48ece49ce4b2bb78f7c3cb66f71c1",
            "e04653235567466e9d239a3de2824cbb",
            "cf8d9d728ec2422680bf4aa044e431bd",
            "ef3bfa45e3d74cbaa273777889eb18c9",
            "e7cf3043f3584f72887560a86a52b432"
          ]
        }
      },
      "outputs": [
        {
          "output_type": "display_data",
          "data": {
            "text/plain": [
              "Map (num_proc=4):   0%|          | 0/1779 [00:00<?, ? examples/s]"
            ],
            "application/vnd.jupyter.widget-view+json": {
              "version_major": 2,
              "version_minor": 0,
              "model_id": "33cd72e07cf4491f80ad57a6cb80ca27"
            }
          },
          "metadata": {}
        },
        {
          "output_type": "stream",
          "name": "stderr",
          "text": [
            "/usr/local/lib/python3.11/dist-packages/transformers/tokenization_utils_base.py:3970: UserWarning: `as_target_tokenizer` is deprecated and will be removed in v5 of Transformers. You can tokenize your labels by using the argument `text_target` of the regular `__call__` method (either in the same call as your input texts if you use the same keyword arguments, or in a separate call.\n",
            "  warnings.warn(\n",
            "/usr/local/lib/python3.11/dist-packages/transformers/tokenization_utils_base.py:3970: UserWarning: `as_target_tokenizer` is deprecated and will be removed in v5 of Transformers. You can tokenize your labels by using the argument `text_target` of the regular `__call__` method (either in the same call as your input texts if you use the same keyword arguments, or in a separate call.\n",
            "  warnings.warn(\n",
            "/usr/local/lib/python3.11/dist-packages/transformers/tokenization_utils_base.py:3970: UserWarning: `as_target_tokenizer` is deprecated and will be removed in v5 of Transformers. You can tokenize your labels by using the argument `text_target` of the regular `__call__` method (either in the same call as your input texts if you use the same keyword arguments, or in a separate call.\n",
            "  warnings.warn(\n",
            "/usr/local/lib/python3.11/dist-packages/transformers/tokenization_utils_base.py:3970: UserWarning: `as_target_tokenizer` is deprecated and will be removed in v5 of Transformers. You can tokenize your labels by using the argument `text_target` of the regular `__call__` method (either in the same call as your input texts if you use the same keyword arguments, or in a separate call.\n",
            "  warnings.warn(\n"
          ]
        },
        {
          "output_type": "display_data",
          "data": {
            "text/plain": [
              "Map (num_proc=4):   0%|          | 0/445 [00:00<?, ? examples/s]"
            ],
            "application/vnd.jupyter.widget-view+json": {
              "version_major": 2,
              "version_minor": 0,
              "model_id": "bc8f2618b9bc43218f46f02f0e961074"
            }
          },
          "metadata": {}
        },
        {
          "output_type": "stream",
          "name": "stderr",
          "text": [
            "/usr/local/lib/python3.11/dist-packages/transformers/tokenization_utils_base.py:3970: UserWarning: `as_target_tokenizer` is deprecated and will be removed in v5 of Transformers. You can tokenize your labels by using the argument `text_target` of the regular `__call__` method (either in the same call as your input texts if you use the same keyword arguments, or in a separate call.\n",
            "  warnings.warn(\n",
            "/usr/local/lib/python3.11/dist-packages/transformers/tokenization_utils_base.py:3970: UserWarning: `as_target_tokenizer` is deprecated and will be removed in v5 of Transformers. You can tokenize your labels by using the argument `text_target` of the regular `__call__` method (either in the same call as your input texts if you use the same keyword arguments, or in a separate call.\n",
            "  warnings.warn(\n",
            "/usr/local/lib/python3.11/dist-packages/transformers/tokenization_utils_base.py:3970: UserWarning: `as_target_tokenizer` is deprecated and will be removed in v5 of Transformers. You can tokenize your labels by using the argument `text_target` of the regular `__call__` method (either in the same call as your input texts if you use the same keyword arguments, or in a separate call.\n",
            "  warnings.warn(\n",
            "/usr/local/lib/python3.11/dist-packages/transformers/tokenization_utils_base.py:3970: UserWarning: `as_target_tokenizer` is deprecated and will be removed in v5 of Transformers. You can tokenize your labels by using the argument `text_target` of the regular `__call__` method (either in the same call as your input texts if you use the same keyword arguments, or in a separate call.\n",
            "  warnings.warn(\n"
          ]
        }
      ],
      "source": [
        "# Function to convert text data into model inputs and targets\n",
        "def preprocess_function(examples):\n",
        "    inputs = [f\"summarize: {article}\" for article in examples['Articles']]\n",
        "    model_inputs = tokenizer(\n",
        "        inputs,\n",
        "        max_length=MAX_LENGTH,\n",
        "        truncation=True,\n",
        "        padding='max_length'\n",
        "    )\n",
        "\n",
        "    # Set up the tokenizer for targets\n",
        "    targets = [summary for summary in examples['Summaries']]\n",
        "    with tokenizer.as_target_tokenizer():\n",
        "        labels = tokenizer(\n",
        "            targets,\n",
        "            max_length=MAX_LENGTH,\n",
        "            truncation=True,\n",
        "            padding='max_length'\n",
        "        )\n",
        "\n",
        "    model_inputs[\"labels\"] = labels[\"input_ids\"]\n",
        "    return model_inputs\n",
        "\n",
        "# Apply the function to the whole dataset\n",
        "tokenized_train = dataset_train.map(\n",
        "    preprocess_function,\n",
        "    batched=True,\n",
        "    num_proc=NUM_PROCS\n",
        ")\n",
        "tokenized_valid = dataset_valid.map(\n",
        "    preprocess_function,\n",
        "    batched=True,\n",
        "    num_proc=NUM_PROCS\n",
        ")"
      ]
    },
    {
      "cell_type": "markdown",
      "id": "3125a0e4",
      "metadata": {
        "id": "3125a0e4",
        "papermill": {
          "duration": 0.051774,
          "end_time": "2023-11-29T13:05:15.960741",
          "exception": false,
          "start_time": "2023-11-29T13:05:15.908967",
          "status": "completed"
        },
        "tags": []
      },
      "source": [
        "## Model"
      ]
    },
    {
      "cell_type": "code",
      "execution_count": null,
      "id": "0320f5ce",
      "metadata": {
        "execution": {
          "iopub.execute_input": "2023-11-29T13:05:16.066433Z",
          "iopub.status.busy": "2023-11-29T13:05:16.065715Z",
          "iopub.status.idle": "2023-11-29T13:05:29.019654Z",
          "shell.execute_reply": "2023-11-29T13:05:29.018359Z"
        },
        "id": "0320f5ce",
        "outputId": "df014479-77b8-465c-a620-7c4cd9e85597",
        "papermill": {
          "duration": 13.009353,
          "end_time": "2023-11-29T13:05:29.022043",
          "exception": false,
          "start_time": "2023-11-29T13:05:16.012690",
          "status": "completed"
        },
        "tags": [],
        "colab": {
          "base_uri": "https://localhost:8080/"
        }
      },
      "outputs": [
        {
          "output_type": "stream",
          "name": "stdout",
          "text": [
            "222,903,552 total parameters.\n",
            "222,903,552 training parameters.\n"
          ]
        }
      ],
      "source": [
        "model = T5ForConditionalGeneration.from_pretrained(MODEL)\n",
        "device = torch.device(\"cuda\" if torch.cuda.is_available() else \"cpu\")\n",
        "model.to(device)\n",
        "# Total parameters and trainable parameters.\n",
        "total_params = sum(p.numel() for p in model.parameters())\n",
        "print(f\"{total_params:,} total parameters.\")\n",
        "total_trainable_params = sum(\n",
        "    p.numel() for p in model.parameters() if p.requires_grad)\n",
        "print(f\"{total_trainable_params:,} training parameters.\")"
      ]
    },
    {
      "cell_type": "markdown",
      "id": "df04ca1e",
      "metadata": {
        "papermill": {
          "duration": 0.052939,
          "end_time": "2023-11-29T13:05:29.127796",
          "exception": false,
          "start_time": "2023-11-29T13:05:29.074857",
          "status": "completed"
        },
        "tags": [],
        "id": "df04ca1e"
      },
      "source": [
        "## ROUGE Metric"
      ]
    },
    {
      "cell_type": "code",
      "execution_count": null,
      "id": "691a5a5d",
      "metadata": {
        "execution": {
          "iopub.execute_input": "2023-11-29T13:05:29.236116Z",
          "iopub.status.busy": "2023-11-29T13:05:29.235178Z",
          "iopub.status.idle": "2023-11-29T13:05:30.202022Z",
          "shell.execute_reply": "2023-11-29T13:05:30.200884Z"
        },
        "papermill": {
          "duration": 1.02284,
          "end_time": "2023-11-29T13:05:30.204720",
          "exception": false,
          "start_time": "2023-11-29T13:05:29.181880",
          "status": "completed"
        },
        "tags": [],
        "id": "691a5a5d"
      },
      "outputs": [],
      "source": [
        "rouge = evaluate.load(\"rouge\")"
      ]
    },
    {
      "cell_type": "code",
      "execution_count": null,
      "id": "26a0a6d4",
      "metadata": {
        "execution": {
          "iopub.execute_input": "2023-11-29T13:05:30.316107Z",
          "iopub.status.busy": "2023-11-29T13:05:30.315293Z",
          "iopub.status.idle": "2023-11-29T13:05:30.323156Z",
          "shell.execute_reply": "2023-11-29T13:05:30.322076Z"
        },
        "papermill": {
          "duration": 0.064934,
          "end_time": "2023-11-29T13:05:30.325664",
          "exception": false,
          "start_time": "2023-11-29T13:05:30.260730",
          "status": "completed"
        },
        "tags": [],
        "id": "26a0a6d4"
      },
      "outputs": [],
      "source": [
        "def compute_metrics(eval_pred):\n",
        "    predictions, labels = eval_pred.predictions[0], eval_pred.label_ids\n",
        "\n",
        "    decoded_preds = tokenizer.batch_decode(predictions, skip_special_tokens=True)\n",
        "    labels = np.where(labels != -100, labels, tokenizer.pad_token_id)\n",
        "    decoded_labels = tokenizer.batch_decode(labels, skip_special_tokens=True)\n",
        "\n",
        "    result = rouge.compute(\n",
        "        predictions=decoded_preds,\n",
        "        references=decoded_labels,\n",
        "        use_stemmer=True,\n",
        "        rouge_types=[\n",
        "            'rouge1',\n",
        "            'rouge2',\n",
        "            'rougeL'\n",
        "        ]\n",
        "    )\n",
        "\n",
        "    prediction_lens = [np.count_nonzero(pred != tokenizer.pad_token_id) for pred in predictions]\n",
        "    result[\"gen_len\"] = np.mean(prediction_lens)\n",
        "\n",
        "    return {k: round(v, 4) for k, v in result.items()}"
      ]
    },
    {
      "cell_type": "code",
      "execution_count": null,
      "id": "e873b864",
      "metadata": {
        "execution": {
          "iopub.execute_input": "2023-11-29T13:05:30.434869Z",
          "iopub.status.busy": "2023-11-29T13:05:30.433956Z",
          "iopub.status.idle": "2023-11-29T13:05:30.439676Z",
          "shell.execute_reply": "2023-11-29T13:05:30.438603Z"
        },
        "papermill": {
          "duration": 0.063667,
          "end_time": "2023-11-29T13:05:30.441797",
          "exception": false,
          "start_time": "2023-11-29T13:05:30.378130",
          "status": "completed"
        },
        "tags": [],
        "id": "e873b864"
      },
      "outputs": [],
      "source": [
        "def preprocess_logits_for_metrics(logits, labels):\n",
        "    \"\"\"\n",
        "    Original Trainer may have a memory leak.\n",
        "    This is a workaround to avoid storing too many tensors that are not needed.\n",
        "    \"\"\"\n",
        "    pred_ids = torch.argmax(logits[0], dim=-1)\n",
        "    return pred_ids, labels"
      ]
    },
    {
      "cell_type": "markdown",
      "id": "6eb17cbe",
      "metadata": {
        "id": "6eb17cbe",
        "papermill": {
          "duration": 0.053815,
          "end_time": "2023-11-29T13:05:30.549456",
          "exception": false,
          "start_time": "2023-11-29T13:05:30.495641",
          "status": "completed"
        },
        "tags": []
      },
      "source": [
        "## Training"
      ]
    },
    {
      "cell_type": "code",
      "source": [
        "from google.colab import drive\n",
        "drive.mount('/content/drive')"
      ],
      "metadata": {
        "colab": {
          "base_uri": "https://localhost:8080/",
          "height": 321
        },
        "id": "cghLvEb0ankf",
        "outputId": "2f36e0d8-d5a8-40db-f66f-5412ac82a867"
      },
      "id": "cghLvEb0ankf",
      "execution_count": null,
      "outputs": [
        {
          "ename": "ValueError",
          "evalue": "mount failed",
          "output_type": "error",
          "traceback": [
            "\u001b[0;31m---------------------------------------------------------------------------\u001b[0m",
            "\u001b[0;31mValueError\u001b[0m                                Traceback (most recent call last)",
            "\u001b[0;32m<ipython-input-45-d5df0069828e>\u001b[0m in \u001b[0;36m<cell line: 0>\u001b[0;34m()\u001b[0m\n\u001b[1;32m      1\u001b[0m \u001b[0;32mfrom\u001b[0m \u001b[0mgoogle\u001b[0m\u001b[0;34m.\u001b[0m\u001b[0mcolab\u001b[0m \u001b[0;32mimport\u001b[0m \u001b[0mdrive\u001b[0m\u001b[0;34m\u001b[0m\u001b[0;34m\u001b[0m\u001b[0m\n\u001b[0;32m----> 2\u001b[0;31m \u001b[0mdrive\u001b[0m\u001b[0;34m.\u001b[0m\u001b[0mmount\u001b[0m\u001b[0;34m(\u001b[0m\u001b[0;34m'/content/drive'\u001b[0m\u001b[0;34m)\u001b[0m\u001b[0;34m\u001b[0m\u001b[0;34m\u001b[0m\u001b[0m\n\u001b[0m",
            "\u001b[0;32m/usr/local/lib/python3.11/dist-packages/google/colab/drive.py\u001b[0m in \u001b[0;36mmount\u001b[0;34m(mountpoint, force_remount, timeout_ms, readonly)\u001b[0m\n\u001b[1;32m     98\u001b[0m \u001b[0;32mdef\u001b[0m \u001b[0mmount\u001b[0m\u001b[0;34m(\u001b[0m\u001b[0mmountpoint\u001b[0m\u001b[0;34m,\u001b[0m \u001b[0mforce_remount\u001b[0m\u001b[0;34m=\u001b[0m\u001b[0;32mFalse\u001b[0m\u001b[0;34m,\u001b[0m \u001b[0mtimeout_ms\u001b[0m\u001b[0;34m=\u001b[0m\u001b[0;36m120000\u001b[0m\u001b[0;34m,\u001b[0m \u001b[0mreadonly\u001b[0m\u001b[0;34m=\u001b[0m\u001b[0;32mFalse\u001b[0m\u001b[0;34m)\u001b[0m\u001b[0;34m:\u001b[0m\u001b[0;34m\u001b[0m\u001b[0;34m\u001b[0m\u001b[0m\n\u001b[1;32m     99\u001b[0m   \u001b[0;34m\"\"\"Mount your Google Drive at the specified mountpoint path.\"\"\"\u001b[0m\u001b[0;34m\u001b[0m\u001b[0;34m\u001b[0m\u001b[0m\n\u001b[0;32m--> 100\u001b[0;31m   return _mount(\n\u001b[0m\u001b[1;32m    101\u001b[0m       \u001b[0mmountpoint\u001b[0m\u001b[0;34m,\u001b[0m\u001b[0;34m\u001b[0m\u001b[0;34m\u001b[0m\u001b[0m\n\u001b[1;32m    102\u001b[0m       \u001b[0mforce_remount\u001b[0m\u001b[0;34m=\u001b[0m\u001b[0mforce_remount\u001b[0m\u001b[0;34m,\u001b[0m\u001b[0;34m\u001b[0m\u001b[0;34m\u001b[0m\u001b[0m\n",
            "\u001b[0;32m/usr/local/lib/python3.11/dist-packages/google/colab/drive.py\u001b[0m in \u001b[0;36m_mount\u001b[0;34m(mountpoint, force_remount, timeout_ms, ephemeral, readonly)\u001b[0m\n\u001b[1;32m    275\u001b[0m             \u001b[0;34m'https://research.google.com/colaboratory/faq.html#drive-timeout'\u001b[0m\u001b[0;34m\u001b[0m\u001b[0;34m\u001b[0m\u001b[0m\n\u001b[1;32m    276\u001b[0m         )\n\u001b[0;32m--> 277\u001b[0;31m       \u001b[0;32mraise\u001b[0m \u001b[0mValueError\u001b[0m\u001b[0;34m(\u001b[0m\u001b[0;34m'mount failed'\u001b[0m \u001b[0;34m+\u001b[0m \u001b[0mextra_reason\u001b[0m\u001b[0;34m)\u001b[0m\u001b[0;34m\u001b[0m\u001b[0;34m\u001b[0m\u001b[0m\n\u001b[0m\u001b[1;32m    278\u001b[0m     \u001b[0;32melif\u001b[0m \u001b[0mcase\u001b[0m \u001b[0;34m==\u001b[0m \u001b[0;36m4\u001b[0m\u001b[0;34m:\u001b[0m\u001b[0;34m\u001b[0m\u001b[0;34m\u001b[0m\u001b[0m\n\u001b[1;32m    279\u001b[0m       \u001b[0;31m# Terminate the DriveFS binary before killing bash.\u001b[0m\u001b[0;34m\u001b[0m\u001b[0;34m\u001b[0m\u001b[0m\n",
            "\u001b[0;31mValueError\u001b[0m: mount failed"
          ]
        }
      ]
    },
    {
      "cell_type": "code",
      "execution_count": null,
      "id": "8858124b",
      "metadata": {
        "execution": {
          "iopub.execute_input": "2023-11-29T13:05:30.655730Z",
          "iopub.status.busy": "2023-11-29T13:05:30.655336Z",
          "iopub.status.idle": "2023-11-29T14:36:01.426493Z",
          "shell.execute_reply": "2023-11-29T14:36:01.425273Z"
        },
        "id": "8858124b",
        "outputId": "6bb05bed-0dbc-4c3b-fbe8-495e22332337",
        "papermill": {
          "duration": 5430.828472,
          "end_time": "2023-11-29T14:36:01.430491",
          "exception": false,
          "start_time": "2023-11-29T13:05:30.602019",
          "status": "completed"
        },
        "tags": [],
        "colab": {
          "base_uri": "https://localhost:8080/",
          "height": 1000
        }
      },
      "outputs": [
        {
          "metadata": {
            "tags": null
          },
          "name": "stderr",
          "output_type": "stream",
          "text": [
            "/usr/local/lib/python3.11/dist-packages/transformers/training_args.py:1594: FutureWarning: `evaluation_strategy` is deprecated and will be removed in version 4.46 of 🤗 Transformers. Use `eval_strategy` instead\n",
            "  warnings.warn(\n",
            "/usr/local/lib/python3.11/dist-packages/torch/utils/data/dataloader.py:617: UserWarning: This DataLoader will create 4 worker processes in total. Our suggested max number of worker in current system is 2, which is smaller than what this DataLoader is going to create. Please be aware that excessive worker creation might get DataLoader running slow or even freeze, lower the worker number to avoid potential slowness/freeze if necessary.\n",
            "  warnings.warn(\n",
            "Passing a tuple of `past_key_values` is deprecated and will be removed in Transformers v4.48.0. You should pass an instance of `EncoderDecoderCache` instead, e.g. `past_key_values=EncoderDecoderCache.from_legacy_cache(past_key_values)`.\n"
          ]
        },
        {
          "data": {
            "text/html": [
              "\n",
              "    <div>\n",
              "      \n",
              "      <progress value='2751' max='4450' style='width:300px; height:20px; vertical-align: middle;'></progress>\n",
              "      [2751/4450 1:14:33 < 46:04, 0.61 it/s, Epoch 6.18/10]\n",
              "    </div>\n",
              "    <table border=\"1\" class=\"dataframe\">\n",
              "  <thead>\n",
              " <tr style=\"text-align: left;\">\n",
              "      <th>Step</th>\n",
              "      <th>Training Loss</th>\n",
              "      <th>Validation Loss</th>\n",
              "      <th>Rouge1</th>\n",
              "      <th>Rouge2</th>\n",
              "      <th>Rougel</th>\n",
              "      <th>Gen Len</th>\n",
              "    </tr>\n",
              "  </thead>\n",
              "  <tbody>\n",
              "    <tr>\n",
              "      <td>200</td>\n",
              "      <td>0.692400</td>\n",
              "      <td>0.380391</td>\n",
              "      <td>0.899700</td>\n",
              "      <td>0.826900</td>\n",
              "      <td>0.881700</td>\n",
              "      <td>232.269700</td>\n",
              "    </tr>\n",
              "    <tr>\n",
              "      <td>400</td>\n",
              "      <td>0.378700</td>\n",
              "      <td>0.334950</td>\n",
              "      <td>0.908100</td>\n",
              "      <td>0.838900</td>\n",
              "      <td>0.890900</td>\n",
              "      <td>233.202200</td>\n",
              "    </tr>\n",
              "    <tr>\n",
              "      <td>600</td>\n",
              "      <td>0.416400</td>\n",
              "      <td>0.317275</td>\n",
              "      <td>0.910400</td>\n",
              "      <td>0.842500</td>\n",
              "      <td>0.894200</td>\n",
              "      <td>233.204500</td>\n",
              "    </tr>\n",
              "    <tr>\n",
              "      <td>800</td>\n",
              "      <td>0.370100</td>\n",
              "      <td>0.309902</td>\n",
              "      <td>0.912700</td>\n",
              "      <td>0.846300</td>\n",
              "      <td>0.896500</td>\n",
              "      <td>233.204500</td>\n",
              "    </tr>\n",
              "    <tr>\n",
              "      <td>1000</td>\n",
              "      <td>0.370900</td>\n",
              "      <td>0.305184</td>\n",
              "      <td>0.914200</td>\n",
              "      <td>0.848800</td>\n",
              "      <td>0.898100</td>\n",
              "      <td>233.204500</td>\n",
              "    </tr>\n",
              "    <tr>\n",
              "      <td>1200</td>\n",
              "      <td>0.392200</td>\n",
              "      <td>0.301668</td>\n",
              "      <td>0.915200</td>\n",
              "      <td>0.849900</td>\n",
              "      <td>0.899100</td>\n",
              "      <td>233.204500</td>\n",
              "    </tr>\n",
              "    <tr>\n",
              "      <td>1400</td>\n",
              "      <td>0.417500</td>\n",
              "      <td>0.298090</td>\n",
              "      <td>0.916200</td>\n",
              "      <td>0.851700</td>\n",
              "      <td>0.899900</td>\n",
              "      <td>233.204500</td>\n",
              "    </tr>\n",
              "    <tr>\n",
              "      <td>1600</td>\n",
              "      <td>0.268800</td>\n",
              "      <td>0.297567</td>\n",
              "      <td>0.916200</td>\n",
              "      <td>0.853100</td>\n",
              "      <td>0.900700</td>\n",
              "      <td>233.204500</td>\n",
              "    </tr>\n",
              "    <tr>\n",
              "      <td>1800</td>\n",
              "      <td>0.344700</td>\n",
              "      <td>0.297181</td>\n",
              "      <td>0.917000</td>\n",
              "      <td>0.852900</td>\n",
              "      <td>0.901100</td>\n",
              "      <td>233.204500</td>\n",
              "    </tr>\n",
              "    <tr>\n",
              "      <td>2000</td>\n",
              "      <td>0.214200</td>\n",
              "      <td>0.295671</td>\n",
              "      <td>0.917500</td>\n",
              "      <td>0.855200</td>\n",
              "      <td>0.902300</td>\n",
              "      <td>233.204500</td>\n",
              "    </tr>\n",
              "    <tr>\n",
              "      <td>2200</td>\n",
              "      <td>0.377400</td>\n",
              "      <td>0.292098</td>\n",
              "      <td>0.918100</td>\n",
              "      <td>0.856100</td>\n",
              "      <td>0.902600</td>\n",
              "      <td>233.204500</td>\n",
              "    </tr>\n",
              "    <tr>\n",
              "      <td>2400</td>\n",
              "      <td>0.194300</td>\n",
              "      <td>0.294082</td>\n",
              "      <td>0.918500</td>\n",
              "      <td>0.856000</td>\n",
              "      <td>0.902900</td>\n",
              "      <td>233.204500</td>\n",
              "    </tr>\n",
              "    <tr>\n",
              "      <td>2600</td>\n",
              "      <td>0.375100</td>\n",
              "      <td>0.294346</td>\n",
              "      <td>0.919500</td>\n",
              "      <td>0.858100</td>\n",
              "      <td>0.904100</td>\n",
              "      <td>233.204500</td>\n",
              "    </tr>\n",
              "  </tbody>\n",
              "</table><p>"
            ],
            "text/plain": [
              "<IPython.core.display.HTML object>"
            ]
          },
          "metadata": {},
          "output_type": "display_data"
        },
        {
          "metadata": {
            "tags": null
          },
          "name": "stderr",
          "output_type": "stream",
          "text": [
            "/usr/local/lib/python3.11/dist-packages/torch/utils/data/dataloader.py:617: UserWarning: This DataLoader will create 4 worker processes in total. Our suggested max number of worker in current system is 2, which is smaller than what this DataLoader is going to create. Please be aware that excessive worker creation might get DataLoader running slow or even freeze, lower the worker number to avoid potential slowness/freeze if necessary.\n",
            "  warnings.warn(\n",
            "/usr/local/lib/python3.11/dist-packages/torch/utils/data/dataloader.py:617: UserWarning: This DataLoader will create 4 worker processes in total. Our suggested max number of worker in current system is 2, which is smaller than what this DataLoader is going to create. Please be aware that excessive worker creation might get DataLoader running slow or even freeze, lower the worker number to avoid potential slowness/freeze if necessary.\n",
            "  warnings.warn(\n",
            "/usr/local/lib/python3.11/dist-packages/torch/utils/data/dataloader.py:617: UserWarning: This DataLoader will create 4 worker processes in total. Our suggested max number of worker in current system is 2, which is smaller than what this DataLoader is going to create. Please be aware that excessive worker creation might get DataLoader running slow or even freeze, lower the worker number to avoid potential slowness/freeze if necessary.\n",
            "  warnings.warn(\n",
            "/usr/local/lib/python3.11/dist-packages/torch/utils/data/dataloader.py:617: UserWarning: This DataLoader will create 4 worker processes in total. Our suggested max number of worker in current system is 2, which is smaller than what this DataLoader is going to create. Please be aware that excessive worker creation might get DataLoader running slow or even freeze, lower the worker number to avoid potential slowness/freeze if necessary.\n",
            "  warnings.warn(\n",
            "/usr/local/lib/python3.11/dist-packages/torch/utils/data/dataloader.py:617: UserWarning: This DataLoader will create 4 worker processes in total. Our suggested max number of worker in current system is 2, which is smaller than what this DataLoader is going to create. Please be aware that excessive worker creation might get DataLoader running slow or even freeze, lower the worker number to avoid potential slowness/freeze if necessary.\n",
            "  warnings.warn(\n",
            "/usr/local/lib/python3.11/dist-packages/torch/utils/data/dataloader.py:617: UserWarning: This DataLoader will create 4 worker processes in total. Our suggested max number of worker in current system is 2, which is smaller than what this DataLoader is going to create. Please be aware that excessive worker creation might get DataLoader running slow or even freeze, lower the worker number to avoid potential slowness/freeze if necessary.\n",
            "  warnings.warn(\n"
          ]
        },
        {
          "output_type": "display_data",
          "data": {
            "text/plain": [
              "<IPython.core.display.HTML object>"
            ],
            "text/html": [
              "\n",
              "    <div>\n",
              "      \n",
              "      <progress value='4450' max='4450' style='width:300px; height:20px; vertical-align: middle;'></progress>\n",
              "      [4450/4450 2:02:24, Epoch 10/10]\n",
              "    </div>\n",
              "    <table border=\"1\" class=\"dataframe\">\n",
              "  <thead>\n",
              " <tr style=\"text-align: left;\">\n",
              "      <th>Step</th>\n",
              "      <th>Training Loss</th>\n",
              "      <th>Validation Loss</th>\n",
              "      <th>Rouge1</th>\n",
              "      <th>Rouge2</th>\n",
              "      <th>Rougel</th>\n",
              "      <th>Gen Len</th>\n",
              "    </tr>\n",
              "  </thead>\n",
              "  <tbody>\n",
              "    <tr>\n",
              "      <td>200</td>\n",
              "      <td>0.692400</td>\n",
              "      <td>0.380391</td>\n",
              "      <td>0.899700</td>\n",
              "      <td>0.826900</td>\n",
              "      <td>0.881700</td>\n",
              "      <td>232.269700</td>\n",
              "    </tr>\n",
              "    <tr>\n",
              "      <td>400</td>\n",
              "      <td>0.378700</td>\n",
              "      <td>0.334950</td>\n",
              "      <td>0.908100</td>\n",
              "      <td>0.838900</td>\n",
              "      <td>0.890900</td>\n",
              "      <td>233.202200</td>\n",
              "    </tr>\n",
              "    <tr>\n",
              "      <td>600</td>\n",
              "      <td>0.416400</td>\n",
              "      <td>0.317275</td>\n",
              "      <td>0.910400</td>\n",
              "      <td>0.842500</td>\n",
              "      <td>0.894200</td>\n",
              "      <td>233.204500</td>\n",
              "    </tr>\n",
              "    <tr>\n",
              "      <td>800</td>\n",
              "      <td>0.370100</td>\n",
              "      <td>0.309902</td>\n",
              "      <td>0.912700</td>\n",
              "      <td>0.846300</td>\n",
              "      <td>0.896500</td>\n",
              "      <td>233.204500</td>\n",
              "    </tr>\n",
              "    <tr>\n",
              "      <td>1000</td>\n",
              "      <td>0.370900</td>\n",
              "      <td>0.305184</td>\n",
              "      <td>0.914200</td>\n",
              "      <td>0.848800</td>\n",
              "      <td>0.898100</td>\n",
              "      <td>233.204500</td>\n",
              "    </tr>\n",
              "    <tr>\n",
              "      <td>1200</td>\n",
              "      <td>0.392200</td>\n",
              "      <td>0.301668</td>\n",
              "      <td>0.915200</td>\n",
              "      <td>0.849900</td>\n",
              "      <td>0.899100</td>\n",
              "      <td>233.204500</td>\n",
              "    </tr>\n",
              "    <tr>\n",
              "      <td>1400</td>\n",
              "      <td>0.417500</td>\n",
              "      <td>0.298090</td>\n",
              "      <td>0.916200</td>\n",
              "      <td>0.851700</td>\n",
              "      <td>0.899900</td>\n",
              "      <td>233.204500</td>\n",
              "    </tr>\n",
              "    <tr>\n",
              "      <td>1600</td>\n",
              "      <td>0.268800</td>\n",
              "      <td>0.297567</td>\n",
              "      <td>0.916200</td>\n",
              "      <td>0.853100</td>\n",
              "      <td>0.900700</td>\n",
              "      <td>233.204500</td>\n",
              "    </tr>\n",
              "    <tr>\n",
              "      <td>1800</td>\n",
              "      <td>0.344700</td>\n",
              "      <td>0.297181</td>\n",
              "      <td>0.917000</td>\n",
              "      <td>0.852900</td>\n",
              "      <td>0.901100</td>\n",
              "      <td>233.204500</td>\n",
              "    </tr>\n",
              "    <tr>\n",
              "      <td>2000</td>\n",
              "      <td>0.214200</td>\n",
              "      <td>0.295671</td>\n",
              "      <td>0.917500</td>\n",
              "      <td>0.855200</td>\n",
              "      <td>0.902300</td>\n",
              "      <td>233.204500</td>\n",
              "    </tr>\n",
              "    <tr>\n",
              "      <td>2200</td>\n",
              "      <td>0.377400</td>\n",
              "      <td>0.292098</td>\n",
              "      <td>0.918100</td>\n",
              "      <td>0.856100</td>\n",
              "      <td>0.902600</td>\n",
              "      <td>233.204500</td>\n",
              "    </tr>\n",
              "    <tr>\n",
              "      <td>2400</td>\n",
              "      <td>0.194300</td>\n",
              "      <td>0.294082</td>\n",
              "      <td>0.918500</td>\n",
              "      <td>0.856000</td>\n",
              "      <td>0.902900</td>\n",
              "      <td>233.204500</td>\n",
              "    </tr>\n",
              "    <tr>\n",
              "      <td>2600</td>\n",
              "      <td>0.375100</td>\n",
              "      <td>0.294346</td>\n",
              "      <td>0.919500</td>\n",
              "      <td>0.858100</td>\n",
              "      <td>0.904100</td>\n",
              "      <td>233.204500</td>\n",
              "    </tr>\n",
              "    <tr>\n",
              "      <td>2800</td>\n",
              "      <td>0.282100</td>\n",
              "      <td>0.296828</td>\n",
              "      <td>0.918900</td>\n",
              "      <td>0.857400</td>\n",
              "      <td>0.903300</td>\n",
              "      <td>233.204500</td>\n",
              "    </tr>\n",
              "    <tr>\n",
              "      <td>3000</td>\n",
              "      <td>0.093200</td>\n",
              "      <td>0.296022</td>\n",
              "      <td>0.919800</td>\n",
              "      <td>0.858400</td>\n",
              "      <td>0.904200</td>\n",
              "      <td>233.204500</td>\n",
              "    </tr>\n",
              "    <tr>\n",
              "      <td>3200</td>\n",
              "      <td>0.187800</td>\n",
              "      <td>0.297982</td>\n",
              "      <td>0.919700</td>\n",
              "      <td>0.858400</td>\n",
              "      <td>0.904100</td>\n",
              "      <td>233.204500</td>\n",
              "    </tr>\n",
              "    <tr>\n",
              "      <td>3400</td>\n",
              "      <td>0.186700</td>\n",
              "      <td>0.297856</td>\n",
              "      <td>0.919800</td>\n",
              "      <td>0.858700</td>\n",
              "      <td>0.904100</td>\n",
              "      <td>233.204500</td>\n",
              "    </tr>\n",
              "    <tr>\n",
              "      <td>3600</td>\n",
              "      <td>0.329700</td>\n",
              "      <td>0.297105</td>\n",
              "      <td>0.920500</td>\n",
              "      <td>0.859900</td>\n",
              "      <td>0.905000</td>\n",
              "      <td>233.204500</td>\n",
              "    </tr>\n",
              "    <tr>\n",
              "      <td>3800</td>\n",
              "      <td>0.428400</td>\n",
              "      <td>0.297542</td>\n",
              "      <td>0.920300</td>\n",
              "      <td>0.859700</td>\n",
              "      <td>0.904900</td>\n",
              "      <td>233.204500</td>\n",
              "    </tr>\n",
              "    <tr>\n",
              "      <td>4000</td>\n",
              "      <td>0.263500</td>\n",
              "      <td>0.297221</td>\n",
              "      <td>0.920500</td>\n",
              "      <td>0.860200</td>\n",
              "      <td>0.905300</td>\n",
              "      <td>233.204500</td>\n",
              "    </tr>\n",
              "    <tr>\n",
              "      <td>4200</td>\n",
              "      <td>0.313100</td>\n",
              "      <td>0.298658</td>\n",
              "      <td>0.920600</td>\n",
              "      <td>0.860500</td>\n",
              "      <td>0.905600</td>\n",
              "      <td>233.204500</td>\n",
              "    </tr>\n",
              "    <tr>\n",
              "      <td>4400</td>\n",
              "      <td>0.255100</td>\n",
              "      <td>0.298174</td>\n",
              "      <td>0.920500</td>\n",
              "      <td>0.860500</td>\n",
              "      <td>0.905400</td>\n",
              "      <td>233.204500</td>\n",
              "    </tr>\n",
              "  </tbody>\n",
              "</table><p>"
            ]
          },
          "metadata": {}
        },
        {
          "output_type": "stream",
          "name": "stderr",
          "text": [
            "/usr/local/lib/python3.11/dist-packages/torch/utils/data/dataloader.py:617: UserWarning: This DataLoader will create 4 worker processes in total. Our suggested max number of worker in current system is 2, which is smaller than what this DataLoader is going to create. Please be aware that excessive worker creation might get DataLoader running slow or even freeze, lower the worker number to avoid potential slowness/freeze if necessary.\n",
            "  warnings.warn(\n",
            "/usr/local/lib/python3.11/dist-packages/torch/utils/data/dataloader.py:617: UserWarning: This DataLoader will create 4 worker processes in total. Our suggested max number of worker in current system is 2, which is smaller than what this DataLoader is going to create. Please be aware that excessive worker creation might get DataLoader running slow or even freeze, lower the worker number to avoid potential slowness/freeze if necessary.\n",
            "  warnings.warn(\n",
            "/usr/local/lib/python3.11/dist-packages/torch/utils/data/dataloader.py:617: UserWarning: This DataLoader will create 4 worker processes in total. Our suggested max number of worker in current system is 2, which is smaller than what this DataLoader is going to create. Please be aware that excessive worker creation might get DataLoader running slow or even freeze, lower the worker number to avoid potential slowness/freeze if necessary.\n",
            "  warnings.warn(\n"
          ]
        }
      ],
      "source": [
        "training_args = TrainingArguments(\n",
        "    output_dir=OUT_DIR,\n",
        "    num_train_epochs=EPOCHS,\n",
        "    per_device_train_batch_size=BATCH_SIZE,\n",
        "    per_device_eval_batch_size=BATCH_SIZE,\n",
        "    warmup_steps=500,\n",
        "    weight_decay=0.01,\n",
        "    logging_dir=OUT_DIR,\n",
        "    logging_steps=10,\n",
        "    evaluation_strategy='steps',\n",
        "    eval_steps=200,\n",
        "    save_strategy='epoch',\n",
        "    save_total_limit=2,\n",
        "    report_to='tensorboard',\n",
        "    learning_rate=0.0001,\n",
        "    dataloader_num_workers=4\n",
        ")\n",
        "\n",
        "trainer = Trainer(\n",
        "    model=model,\n",
        "    args=training_args,\n",
        "    train_dataset=tokenized_train,\n",
        "    eval_dataset=tokenized_valid,\n",
        "    preprocess_logits_for_metrics=preprocess_logits_for_metrics,\n",
        "    compute_metrics=compute_metrics\n",
        ")\n",
        "\n",
        "history = trainer.train()"
      ]
    },
    {
      "cell_type": "code",
      "execution_count": null,
      "id": "87063372",
      "metadata": {
        "execution": {
          "iopub.execute_input": "2023-11-29T14:36:01.568478Z",
          "iopub.status.busy": "2023-11-29T14:36:01.567446Z",
          "iopub.status.idle": "2023-11-29T14:36:01.579614Z",
          "shell.execute_reply": "2023-11-29T14:36:01.578689Z"
        },
        "id": "87063372",
        "outputId": "ece62a5e-63ad-4331-c71b-d241e63f8e44",
        "papermill": {
          "duration": 0.068166,
          "end_time": "2023-11-29T14:36:01.581639",
          "exception": false,
          "start_time": "2023-11-29T14:36:01.513473",
          "status": "completed"
        },
        "tags": [],
        "colab": {
          "base_uri": "https://localhost:8080/"
        }
      },
      "outputs": [
        {
          "data": {
            "text/plain": [
              "('results_t5base/tokenizer_config.json',\n",
              " 'results_t5base/special_tokens_map.json',\n",
              " 'results_t5base/spiece.model',\n",
              " 'results_t5base/added_tokens.json')"
            ]
          },
          "execution_count": 37,
          "metadata": {},
          "output_type": "execute_result"
        }
      ],
      "source": [
        "tokenizer.save_pretrained(OUT_DIR)"
      ]
    },
    {
      "cell_type": "code",
      "execution_count": null,
      "id": "feb20974",
      "metadata": {
        "execution": {
          "iopub.execute_input": "2023-11-29T14:36:01.687939Z",
          "iopub.status.busy": "2023-11-29T14:36:01.687010Z",
          "iopub.status.idle": "2023-11-29T14:41:00.323323Z",
          "shell.execute_reply": "2023-11-29T14:41:00.322004Z"
        },
        "papermill": {
          "duration": 298.691571,
          "end_time": "2023-11-29T14:41:00.325913",
          "exception": false,
          "start_time": "2023-11-29T14:36:01.634342",
          "status": "completed"
        },
        "tags": [],
        "colab": {
          "base_uri": "https://localhost:8080/"
        },
        "id": "feb20974",
        "outputId": "fb62f2c3-27cc-40b8-8961-0603acde389b"
      },
      "outputs": [
        {
          "output_type": "stream",
          "name": "stdout",
          "text": [
            "  adding: results_t5base/ (stored 0%)\n",
            "  adding: results_t5base/added_tokens.json (deflated 83%)\n",
            "  adding: results_t5base/events.out.tfevents.1741630367.608fdc570701.1211.0 (deflated 70%)\n",
            "  adding: results_t5base/special_tokens_map.json (deflated 85%)\n",
            "  adding: results_t5base/spiece.model (deflated 48%)\n",
            "  adding: results_t5base/checkpoint-4005/ (stored 0%)\n",
            "  adding: results_t5base/checkpoint-4005/trainer_state.json (deflated 84%)\n",
            "  adding: results_t5base/checkpoint-4005/scheduler.pt (deflated 55%)\n",
            "  adding: results_t5base/checkpoint-4005/model.safetensors (deflated 8%)\n",
            "  adding: results_t5base/checkpoint-4005/optimizer.pt (deflated 8%)\n",
            "  adding: results_t5base/checkpoint-4005/training_args.bin (deflated 51%)\n",
            "  adding: results_t5base/checkpoint-4005/generation_config.json (deflated 29%)\n",
            "  adding: results_t5base/checkpoint-4005/rng_state.pth (deflated 25%)\n",
            "  adding: results_t5base/checkpoint-4005/config.json (deflated 62%)\n",
            "  adding: results_t5base/checkpoint-4450/ (stored 0%)\n",
            "  adding: results_t5base/checkpoint-4450/trainer_state.json (deflated 84%)\n",
            "  adding: results_t5base/checkpoint-4450/scheduler.pt (deflated 56%)\n",
            "  adding: results_t5base/checkpoint-4450/model.safetensors (deflated 8%)\n",
            "  adding: results_t5base/checkpoint-4450/optimizer.pt (deflated 8%)\n",
            "  adding: results_t5base/checkpoint-4450/training_args.bin (deflated 51%)\n",
            "  adding: results_t5base/checkpoint-4450/generation_config.json (deflated 29%)\n",
            "  adding: results_t5base/checkpoint-4450/rng_state.pth (deflated 25%)\n",
            "  adding: results_t5base/checkpoint-4450/config.json (deflated 62%)\n",
            "  adding: results_t5base/tokenizer_config.json (deflated 94%)\n"
          ]
        }
      ],
      "source": [
        "!zip -r {OUT_DIR} {OUT_DIR}"
      ]
    },
    {
      "cell_type": "markdown",
      "id": "6140f3a3",
      "metadata": {
        "id": "6140f3a3",
        "papermill": {
          "duration": 0.051548,
          "end_time": "2023-11-29T14:41:00.429597",
          "exception": false,
          "start_time": "2023-11-29T14:41:00.378049",
          "status": "completed"
        },
        "tags": []
      },
      "source": [
        "## Inference"
      ]
    },
    {
      "cell_type": "code",
      "execution_count": null,
      "id": "f4cad668",
      "metadata": {
        "execution": {
          "iopub.execute_input": "2023-11-29T14:41:00.538816Z",
          "iopub.status.busy": "2023-11-29T14:41:00.537721Z",
          "iopub.status.idle": "2023-11-29T14:41:03.763765Z",
          "shell.execute_reply": "2023-11-29T14:41:03.761954Z"
        },
        "papermill": {
          "duration": 3.283808,
          "end_time": "2023-11-29T14:41:03.766466",
          "exception": false,
          "start_time": "2023-11-29T14:41:00.482658",
          "status": "completed"
        },
        "tags": [],
        "id": "f4cad668"
      },
      "outputs": [],
      "source": [
        "# Download data.\n",
        "!wget \"https://www.dropbox.com/scl/fi/561r8pfhem4lu70hf438q/inference_data.zip?rlkey=aedt2saqmmp3a67qc4o34k04y&dl=1\" -O inference_data.zip"
      ]
    },
    {
      "cell_type": "code",
      "execution_count": null,
      "id": "c253201c",
      "metadata": {
        "execution": {
          "iopub.execute_input": "2023-11-29T14:41:03.871795Z",
          "iopub.status.busy": "2023-11-29T14:41:03.871390Z",
          "iopub.status.idle": "2023-11-29T14:41:04.947359Z",
          "shell.execute_reply": "2023-11-29T14:41:04.946112Z"
        },
        "papermill": {
          "duration": 1.132326,
          "end_time": "2023-11-29T14:41:04.950058",
          "exception": false,
          "start_time": "2023-11-29T14:41:03.817732",
          "status": "completed"
        },
        "tags": [],
        "id": "c253201c"
      },
      "outputs": [],
      "source": [
        "!unzip inference_data.zip"
      ]
    },
    {
      "cell_type": "code",
      "execution_count": null,
      "id": "6ce574fb",
      "metadata": {
        "execution": {
          "iopub.execute_input": "2023-11-29T14:41:05.057575Z",
          "iopub.status.busy": "2023-11-29T14:41:05.057195Z",
          "iopub.status.idle": "2023-11-29T14:41:05.062352Z",
          "shell.execute_reply": "2023-11-29T14:41:05.061376Z"
        },
        "id": "6ce574fb",
        "papermill": {
          "duration": 0.061285,
          "end_time": "2023-11-29T14:41:05.064333",
          "exception": false,
          "start_time": "2023-11-29T14:41:05.003048",
          "status": "completed"
        },
        "tags": []
      },
      "outputs": [],
      "source": [
        "from transformers import T5ForConditionalGeneration, T5Tokenizer\n",
        "\n",
        "import glob"
      ]
    },
    {
      "cell_type": "code",
      "execution_count": null,
      "id": "7f84e37e",
      "metadata": {
        "execution": {
          "iopub.execute_input": "2023-11-29T14:41:05.174331Z",
          "iopub.status.busy": "2023-11-29T14:41:05.173948Z",
          "iopub.status.idle": "2023-11-29T14:41:08.110565Z",
          "shell.execute_reply": "2023-11-29T14:41:08.109486Z"
        },
        "id": "7f84e37e",
        "papermill": {
          "duration": 2.99533,
          "end_time": "2023-11-29T14:41:08.113592",
          "exception": false,
          "start_time": "2023-11-29T14:41:05.118262",
          "status": "completed"
        },
        "tags": []
      },
      "outputs": [],
      "source": [
        "model_path = f\"{OUT_DIR}/checkpoint-4450\"  # the path where you saved your model\n",
        "model = T5ForConditionalGeneration.from_pretrained(model_path)\n",
        "tokenizer = T5Tokenizer.from_pretrained(OUT_DIR)"
      ]
    },
    {
      "cell_type": "code",
      "execution_count": null,
      "id": "07728583",
      "metadata": {
        "execution": {
          "iopub.execute_input": "2023-11-29T14:41:08.244140Z",
          "iopub.status.busy": "2023-11-29T14:41:08.243148Z",
          "iopub.status.idle": "2023-11-29T14:41:08.251106Z",
          "shell.execute_reply": "2023-11-29T14:41:08.249998Z"
        },
        "id": "07728583",
        "papermill": {
          "duration": 0.073882,
          "end_time": "2023-11-29T14:41:08.253297",
          "exception": false,
          "start_time": "2023-11-29T14:41:08.179415",
          "status": "completed"
        },
        "tags": []
      },
      "outputs": [],
      "source": [
        "def summarize_text(text, model, tokenizer, max_length=512, num_beams=5):\n",
        "    # Preprocess the text\n",
        "    inputs = tokenizer.encode(\n",
        "        \"summarize: \" + text,\n",
        "        return_tensors='pt',\n",
        "        max_length=max_length,\n",
        "        truncation=True\n",
        "    )\n",
        "\n",
        "    # Generate the summary\n",
        "    summary_ids = model.generate(\n",
        "        inputs,\n",
        "        max_length=50,\n",
        "        num_beams=num_beams,\n",
        "        # early_stopping=True,\n",
        "    )\n",
        "\n",
        "    # Decode and return the summary\n",
        "    return tokenizer.decode(summary_ids[0], skip_special_tokens=True)"
      ]
    },
    {
      "cell_type": "code",
      "execution_count": null,
      "id": "946fd6f3",
      "metadata": {
        "execution": {
          "iopub.execute_input": "2023-11-29T14:41:08.362777Z",
          "iopub.status.busy": "2023-11-29T14:41:08.361775Z",
          "iopub.status.idle": "2023-11-29T14:41:19.093418Z",
          "shell.execute_reply": "2023-11-29T14:41:19.092307Z"
        },
        "id": "946fd6f3",
        "outputId": "df3e0cb4-9944-4961-d132-233552032b7b",
        "papermill": {
          "duration": 10.789448,
          "end_time": "2023-11-29T14:41:19.096042",
          "exception": false,
          "start_time": "2023-11-29T14:41:08.306594",
          "status": "completed"
        },
        "tags": [],
        "colab": {
          "base_uri": "https://localhost:8080/"
        }
      },
      "outputs": [
        {
          "output_type": "stream",
          "name": "stdout",
          "text": [
            "('Sam Altman — the leader of one of the world’s most influential AI companies, '\n",
            " 'OpenAI, and perhaps the most visible figure in the space — was fired Friday '\n",
            " 'night by the startup’s board in a surprise move.')\n",
            "---------------------------------------------------------------------------\n",
            "('Microsoft has hired Sam Altman to power up its innovation in artificial '\n",
            " 'intelligence after the co-founder of OpenAI was ousted as CEO in a chaotic '\n",
            " 'boardroom coup on Friday. Brockmann quit as OpenAI president after Altman '\n",
            " 'was fired')\n",
            "---------------------------------------------------------------------------\n"
          ]
        }
      ],
      "source": [
        "for file_path in glob.glob('inference_data/*.txt'):\n",
        "    file = open(file_path)\n",
        "    text = file.read()\n",
        "    summary = summarize_text(text, model, tokenizer)\n",
        "    pp.pprint(summary)\n",
        "    print('-'*75)"
      ]
    },
    {
      "cell_type": "code",
      "execution_count": null,
      "id": "6534c730",
      "metadata": {
        "papermill": {
          "duration": 0.054728,
          "end_time": "2023-11-29T14:41:19.205252",
          "exception": false,
          "start_time": "2023-11-29T14:41:19.150524",
          "status": "completed"
        },
        "tags": [],
        "id": "6534c730"
      },
      "outputs": [],
      "source": []
    },
    {
      "cell_type": "code",
      "execution_count": null,
      "id": "2198df62",
      "metadata": {
        "papermill": {
          "duration": 0.052971,
          "end_time": "2023-11-29T14:41:19.312391",
          "exception": false,
          "start_time": "2023-11-29T14:41:19.259420",
          "status": "completed"
        },
        "tags": [],
        "id": "2198df62"
      },
      "outputs": [],
      "source": []
    }
  ],
  "metadata": {
    "accelerator": "GPU",
    "colab": {
      "gpuType": "T4",
      "provenance": [],
      "collapsed_sections": [
        "f17f4135"
      ],
      "include_colab_link": true
    },
    "kaggle": {
      "accelerator": "gpu",
      "dataSources": [],
      "dockerImageVersionId": 30588,
      "isGpuEnabled": true,
      "isInternetEnabled": true,
      "language": "python",
      "sourceType": "notebook"
    },
    "kernelspec": {
      "display_name": "Python 3 (ipykernel)",
      "language": "python",
      "name": "python3"
    },
    "language_info": {
      "codemirror_mode": {
        "name": "ipython",
        "version": 3
      },
      "file_extension": ".py",
      "mimetype": "text/x-python",
      "name": "python",
      "nbconvert_exporter": "python",
      "pygments_lexer": "ipython3",
      "version": "3.10.13"
    },
    "papermill": {
      "default_parameters": {},
      "duration": 5915.488545,
      "end_time": "2023-11-29T14:41:23.038520",
      "environment_variables": {},
      "exception": null,
      "input_path": "__notebook__.ipynb",
      "output_path": "__notebook__.ipynb",
      "parameters": {},
      "start_time": "2023-11-29T13:02:47.549975",
      "version": "2.4.0"
    },
    "widgets": {
      "application/vnd.jupyter.widget-state+json": {
        "33cd72e07cf4491f80ad57a6cb80ca27": {
          "model_module": "@jupyter-widgets/controls",
          "model_name": "HBoxModel",
          "model_module_version": "1.5.0",
          "state": {
            "_dom_classes": [],
            "_model_module": "@jupyter-widgets/controls",
            "_model_module_version": "1.5.0",
            "_model_name": "HBoxModel",
            "_view_count": null,
            "_view_module": "@jupyter-widgets/controls",
            "_view_module_version": "1.5.0",
            "_view_name": "HBoxView",
            "box_style": "",
            "children": [
              "IPY_MODEL_0cb40f2195974d44a7e0d950d6a3369f",
              "IPY_MODEL_c1584071c49040e4851cec8b67d319d5",
              "IPY_MODEL_a8c4ab1746bf44eabdc7be209652ab43"
            ],
            "layout": "IPY_MODEL_a581714df5ef4dc2ba7374fafa0c9ece"
          }
        },
        "0cb40f2195974d44a7e0d950d6a3369f": {
          "model_module": "@jupyter-widgets/controls",
          "model_name": "HTMLModel",
          "model_module_version": "1.5.0",
          "state": {
            "_dom_classes": [],
            "_model_module": "@jupyter-widgets/controls",
            "_model_module_version": "1.5.0",
            "_model_name": "HTMLModel",
            "_view_count": null,
            "_view_module": "@jupyter-widgets/controls",
            "_view_module_version": "1.5.0",
            "_view_name": "HTMLView",
            "description": "",
            "description_tooltip": null,
            "layout": "IPY_MODEL_4e448c4150b94e4587ea6a28d0cfd25f",
            "placeholder": "​",
            "style": "IPY_MODEL_d67fc5a010404136a48ecacfd112838c",
            "value": "Map (num_proc=4): 100%"
          }
        },
        "c1584071c49040e4851cec8b67d319d5": {
          "model_module": "@jupyter-widgets/controls",
          "model_name": "FloatProgressModel",
          "model_module_version": "1.5.0",
          "state": {
            "_dom_classes": [],
            "_model_module": "@jupyter-widgets/controls",
            "_model_module_version": "1.5.0",
            "_model_name": "FloatProgressModel",
            "_view_count": null,
            "_view_module": "@jupyter-widgets/controls",
            "_view_module_version": "1.5.0",
            "_view_name": "ProgressView",
            "bar_style": "success",
            "description": "",
            "description_tooltip": null,
            "layout": "IPY_MODEL_cdacbf392a954206a9664703d5bb7669",
            "max": 1779,
            "min": 0,
            "orientation": "horizontal",
            "style": "IPY_MODEL_8d28aa45583f43808b6f37a058a16d09",
            "value": 1779
          }
        },
        "a8c4ab1746bf44eabdc7be209652ab43": {
          "model_module": "@jupyter-widgets/controls",
          "model_name": "HTMLModel",
          "model_module_version": "1.5.0",
          "state": {
            "_dom_classes": [],
            "_model_module": "@jupyter-widgets/controls",
            "_model_module_version": "1.5.0",
            "_model_name": "HTMLModel",
            "_view_count": null,
            "_view_module": "@jupyter-widgets/controls",
            "_view_module_version": "1.5.0",
            "_view_name": "HTMLView",
            "description": "",
            "description_tooltip": null,
            "layout": "IPY_MODEL_e1b0adc1f49f4c75b1bd6391237e2f24",
            "placeholder": "​",
            "style": "IPY_MODEL_fcbf336eafe040ba85355a29e723e389",
            "value": " 1779/1779 [00:09&lt;00:00, 285.45 examples/s]"
          }
        },
        "a581714df5ef4dc2ba7374fafa0c9ece": {
          "model_module": "@jupyter-widgets/base",
          "model_name": "LayoutModel",
          "model_module_version": "1.2.0",
          "state": {
            "_model_module": "@jupyter-widgets/base",
            "_model_module_version": "1.2.0",
            "_model_name": "LayoutModel",
            "_view_count": null,
            "_view_module": "@jupyter-widgets/base",
            "_view_module_version": "1.2.0",
            "_view_name": "LayoutView",
            "align_content": null,
            "align_items": null,
            "align_self": null,
            "border": null,
            "bottom": null,
            "display": null,
            "flex": null,
            "flex_flow": null,
            "grid_area": null,
            "grid_auto_columns": null,
            "grid_auto_flow": null,
            "grid_auto_rows": null,
            "grid_column": null,
            "grid_gap": null,
            "grid_row": null,
            "grid_template_areas": null,
            "grid_template_columns": null,
            "grid_template_rows": null,
            "height": null,
            "justify_content": null,
            "justify_items": null,
            "left": null,
            "margin": null,
            "max_height": null,
            "max_width": null,
            "min_height": null,
            "min_width": null,
            "object_fit": null,
            "object_position": null,
            "order": null,
            "overflow": null,
            "overflow_x": null,
            "overflow_y": null,
            "padding": null,
            "right": null,
            "top": null,
            "visibility": null,
            "width": null
          }
        },
        "4e448c4150b94e4587ea6a28d0cfd25f": {
          "model_module": "@jupyter-widgets/base",
          "model_name": "LayoutModel",
          "model_module_version": "1.2.0",
          "state": {
            "_model_module": "@jupyter-widgets/base",
            "_model_module_version": "1.2.0",
            "_model_name": "LayoutModel",
            "_view_count": null,
            "_view_module": "@jupyter-widgets/base",
            "_view_module_version": "1.2.0",
            "_view_name": "LayoutView",
            "align_content": null,
            "align_items": null,
            "align_self": null,
            "border": null,
            "bottom": null,
            "display": null,
            "flex": null,
            "flex_flow": null,
            "grid_area": null,
            "grid_auto_columns": null,
            "grid_auto_flow": null,
            "grid_auto_rows": null,
            "grid_column": null,
            "grid_gap": null,
            "grid_row": null,
            "grid_template_areas": null,
            "grid_template_columns": null,
            "grid_template_rows": null,
            "height": null,
            "justify_content": null,
            "justify_items": null,
            "left": null,
            "margin": null,
            "max_height": null,
            "max_width": null,
            "min_height": null,
            "min_width": null,
            "object_fit": null,
            "object_position": null,
            "order": null,
            "overflow": null,
            "overflow_x": null,
            "overflow_y": null,
            "padding": null,
            "right": null,
            "top": null,
            "visibility": null,
            "width": null
          }
        },
        "d67fc5a010404136a48ecacfd112838c": {
          "model_module": "@jupyter-widgets/controls",
          "model_name": "DescriptionStyleModel",
          "model_module_version": "1.5.0",
          "state": {
            "_model_module": "@jupyter-widgets/controls",
            "_model_module_version": "1.5.0",
            "_model_name": "DescriptionStyleModel",
            "_view_count": null,
            "_view_module": "@jupyter-widgets/base",
            "_view_module_version": "1.2.0",
            "_view_name": "StyleView",
            "description_width": ""
          }
        },
        "cdacbf392a954206a9664703d5bb7669": {
          "model_module": "@jupyter-widgets/base",
          "model_name": "LayoutModel",
          "model_module_version": "1.2.0",
          "state": {
            "_model_module": "@jupyter-widgets/base",
            "_model_module_version": "1.2.0",
            "_model_name": "LayoutModel",
            "_view_count": null,
            "_view_module": "@jupyter-widgets/base",
            "_view_module_version": "1.2.0",
            "_view_name": "LayoutView",
            "align_content": null,
            "align_items": null,
            "align_self": null,
            "border": null,
            "bottom": null,
            "display": null,
            "flex": null,
            "flex_flow": null,
            "grid_area": null,
            "grid_auto_columns": null,
            "grid_auto_flow": null,
            "grid_auto_rows": null,
            "grid_column": null,
            "grid_gap": null,
            "grid_row": null,
            "grid_template_areas": null,
            "grid_template_columns": null,
            "grid_template_rows": null,
            "height": null,
            "justify_content": null,
            "justify_items": null,
            "left": null,
            "margin": null,
            "max_height": null,
            "max_width": null,
            "min_height": null,
            "min_width": null,
            "object_fit": null,
            "object_position": null,
            "order": null,
            "overflow": null,
            "overflow_x": null,
            "overflow_y": null,
            "padding": null,
            "right": null,
            "top": null,
            "visibility": null,
            "width": null
          }
        },
        "8d28aa45583f43808b6f37a058a16d09": {
          "model_module": "@jupyter-widgets/controls",
          "model_name": "ProgressStyleModel",
          "model_module_version": "1.5.0",
          "state": {
            "_model_module": "@jupyter-widgets/controls",
            "_model_module_version": "1.5.0",
            "_model_name": "ProgressStyleModel",
            "_view_count": null,
            "_view_module": "@jupyter-widgets/base",
            "_view_module_version": "1.2.0",
            "_view_name": "StyleView",
            "bar_color": null,
            "description_width": ""
          }
        },
        "e1b0adc1f49f4c75b1bd6391237e2f24": {
          "model_module": "@jupyter-widgets/base",
          "model_name": "LayoutModel",
          "model_module_version": "1.2.0",
          "state": {
            "_model_module": "@jupyter-widgets/base",
            "_model_module_version": "1.2.0",
            "_model_name": "LayoutModel",
            "_view_count": null,
            "_view_module": "@jupyter-widgets/base",
            "_view_module_version": "1.2.0",
            "_view_name": "LayoutView",
            "align_content": null,
            "align_items": null,
            "align_self": null,
            "border": null,
            "bottom": null,
            "display": null,
            "flex": null,
            "flex_flow": null,
            "grid_area": null,
            "grid_auto_columns": null,
            "grid_auto_flow": null,
            "grid_auto_rows": null,
            "grid_column": null,
            "grid_gap": null,
            "grid_row": null,
            "grid_template_areas": null,
            "grid_template_columns": null,
            "grid_template_rows": null,
            "height": null,
            "justify_content": null,
            "justify_items": null,
            "left": null,
            "margin": null,
            "max_height": null,
            "max_width": null,
            "min_height": null,
            "min_width": null,
            "object_fit": null,
            "object_position": null,
            "order": null,
            "overflow": null,
            "overflow_x": null,
            "overflow_y": null,
            "padding": null,
            "right": null,
            "top": null,
            "visibility": null,
            "width": null
          }
        },
        "fcbf336eafe040ba85355a29e723e389": {
          "model_module": "@jupyter-widgets/controls",
          "model_name": "DescriptionStyleModel",
          "model_module_version": "1.5.0",
          "state": {
            "_model_module": "@jupyter-widgets/controls",
            "_model_module_version": "1.5.0",
            "_model_name": "DescriptionStyleModel",
            "_view_count": null,
            "_view_module": "@jupyter-widgets/base",
            "_view_module_version": "1.2.0",
            "_view_name": "StyleView",
            "description_width": ""
          }
        },
        "bc8f2618b9bc43218f46f02f0e961074": {
          "model_module": "@jupyter-widgets/controls",
          "model_name": "HBoxModel",
          "model_module_version": "1.5.0",
          "state": {
            "_dom_classes": [],
            "_model_module": "@jupyter-widgets/controls",
            "_model_module_version": "1.5.0",
            "_model_name": "HBoxModel",
            "_view_count": null,
            "_view_module": "@jupyter-widgets/controls",
            "_view_module_version": "1.5.0",
            "_view_name": "HBoxView",
            "box_style": "",
            "children": [
              "IPY_MODEL_649d7fddecf14517a26e2540a3694ff8",
              "IPY_MODEL_6f9f28cd53c341659c9986aab091dcbb",
              "IPY_MODEL_c48f6518ab544e56a20a37f4f7b5ed8d"
            ],
            "layout": "IPY_MODEL_b8447839618d41dc8ad4fe12b136892a"
          }
        },
        "649d7fddecf14517a26e2540a3694ff8": {
          "model_module": "@jupyter-widgets/controls",
          "model_name": "HTMLModel",
          "model_module_version": "1.5.0",
          "state": {
            "_dom_classes": [],
            "_model_module": "@jupyter-widgets/controls",
            "_model_module_version": "1.5.0",
            "_model_name": "HTMLModel",
            "_view_count": null,
            "_view_module": "@jupyter-widgets/controls",
            "_view_module_version": "1.5.0",
            "_view_name": "HTMLView",
            "description": "",
            "description_tooltip": null,
            "layout": "IPY_MODEL_c476beaa53764c2f9f23e8e1469f0c7c",
            "placeholder": "​",
            "style": "IPY_MODEL_3fb48ece49ce4b2bb78f7c3cb66f71c1",
            "value": "Map (num_proc=4): 100%"
          }
        },
        "6f9f28cd53c341659c9986aab091dcbb": {
          "model_module": "@jupyter-widgets/controls",
          "model_name": "FloatProgressModel",
          "model_module_version": "1.5.0",
          "state": {
            "_dom_classes": [],
            "_model_module": "@jupyter-widgets/controls",
            "_model_module_version": "1.5.0",
            "_model_name": "FloatProgressModel",
            "_view_count": null,
            "_view_module": "@jupyter-widgets/controls",
            "_view_module_version": "1.5.0",
            "_view_name": "ProgressView",
            "bar_style": "success",
            "description": "",
            "description_tooltip": null,
            "layout": "IPY_MODEL_e04653235567466e9d239a3de2824cbb",
            "max": 445,
            "min": 0,
            "orientation": "horizontal",
            "style": "IPY_MODEL_cf8d9d728ec2422680bf4aa044e431bd",
            "value": 445
          }
        },
        "c48f6518ab544e56a20a37f4f7b5ed8d": {
          "model_module": "@jupyter-widgets/controls",
          "model_name": "HTMLModel",
          "model_module_version": "1.5.0",
          "state": {
            "_dom_classes": [],
            "_model_module": "@jupyter-widgets/controls",
            "_model_module_version": "1.5.0",
            "_model_name": "HTMLModel",
            "_view_count": null,
            "_view_module": "@jupyter-widgets/controls",
            "_view_module_version": "1.5.0",
            "_view_name": "HTMLView",
            "description": "",
            "description_tooltip": null,
            "layout": "IPY_MODEL_ef3bfa45e3d74cbaa273777889eb18c9",
            "placeholder": "​",
            "style": "IPY_MODEL_e7cf3043f3584f72887560a86a52b432",
            "value": " 445/445 [00:02&lt;00:00, 181.61 examples/s]"
          }
        },
        "b8447839618d41dc8ad4fe12b136892a": {
          "model_module": "@jupyter-widgets/base",
          "model_name": "LayoutModel",
          "model_module_version": "1.2.0",
          "state": {
            "_model_module": "@jupyter-widgets/base",
            "_model_module_version": "1.2.0",
            "_model_name": "LayoutModel",
            "_view_count": null,
            "_view_module": "@jupyter-widgets/base",
            "_view_module_version": "1.2.0",
            "_view_name": "LayoutView",
            "align_content": null,
            "align_items": null,
            "align_self": null,
            "border": null,
            "bottom": null,
            "display": null,
            "flex": null,
            "flex_flow": null,
            "grid_area": null,
            "grid_auto_columns": null,
            "grid_auto_flow": null,
            "grid_auto_rows": null,
            "grid_column": null,
            "grid_gap": null,
            "grid_row": null,
            "grid_template_areas": null,
            "grid_template_columns": null,
            "grid_template_rows": null,
            "height": null,
            "justify_content": null,
            "justify_items": null,
            "left": null,
            "margin": null,
            "max_height": null,
            "max_width": null,
            "min_height": null,
            "min_width": null,
            "object_fit": null,
            "object_position": null,
            "order": null,
            "overflow": null,
            "overflow_x": null,
            "overflow_y": null,
            "padding": null,
            "right": null,
            "top": null,
            "visibility": null,
            "width": null
          }
        },
        "c476beaa53764c2f9f23e8e1469f0c7c": {
          "model_module": "@jupyter-widgets/base",
          "model_name": "LayoutModel",
          "model_module_version": "1.2.0",
          "state": {
            "_model_module": "@jupyter-widgets/base",
            "_model_module_version": "1.2.0",
            "_model_name": "LayoutModel",
            "_view_count": null,
            "_view_module": "@jupyter-widgets/base",
            "_view_module_version": "1.2.0",
            "_view_name": "LayoutView",
            "align_content": null,
            "align_items": null,
            "align_self": null,
            "border": null,
            "bottom": null,
            "display": null,
            "flex": null,
            "flex_flow": null,
            "grid_area": null,
            "grid_auto_columns": null,
            "grid_auto_flow": null,
            "grid_auto_rows": null,
            "grid_column": null,
            "grid_gap": null,
            "grid_row": null,
            "grid_template_areas": null,
            "grid_template_columns": null,
            "grid_template_rows": null,
            "height": null,
            "justify_content": null,
            "justify_items": null,
            "left": null,
            "margin": null,
            "max_height": null,
            "max_width": null,
            "min_height": null,
            "min_width": null,
            "object_fit": null,
            "object_position": null,
            "order": null,
            "overflow": null,
            "overflow_x": null,
            "overflow_y": null,
            "padding": null,
            "right": null,
            "top": null,
            "visibility": null,
            "width": null
          }
        },
        "3fb48ece49ce4b2bb78f7c3cb66f71c1": {
          "model_module": "@jupyter-widgets/controls",
          "model_name": "DescriptionStyleModel",
          "model_module_version": "1.5.0",
          "state": {
            "_model_module": "@jupyter-widgets/controls",
            "_model_module_version": "1.5.0",
            "_model_name": "DescriptionStyleModel",
            "_view_count": null,
            "_view_module": "@jupyter-widgets/base",
            "_view_module_version": "1.2.0",
            "_view_name": "StyleView",
            "description_width": ""
          }
        },
        "e04653235567466e9d239a3de2824cbb": {
          "model_module": "@jupyter-widgets/base",
          "model_name": "LayoutModel",
          "model_module_version": "1.2.0",
          "state": {
            "_model_module": "@jupyter-widgets/base",
            "_model_module_version": "1.2.0",
            "_model_name": "LayoutModel",
            "_view_count": null,
            "_view_module": "@jupyter-widgets/base",
            "_view_module_version": "1.2.0",
            "_view_name": "LayoutView",
            "align_content": null,
            "align_items": null,
            "align_self": null,
            "border": null,
            "bottom": null,
            "display": null,
            "flex": null,
            "flex_flow": null,
            "grid_area": null,
            "grid_auto_columns": null,
            "grid_auto_flow": null,
            "grid_auto_rows": null,
            "grid_column": null,
            "grid_gap": null,
            "grid_row": null,
            "grid_template_areas": null,
            "grid_template_columns": null,
            "grid_template_rows": null,
            "height": null,
            "justify_content": null,
            "justify_items": null,
            "left": null,
            "margin": null,
            "max_height": null,
            "max_width": null,
            "min_height": null,
            "min_width": null,
            "object_fit": null,
            "object_position": null,
            "order": null,
            "overflow": null,
            "overflow_x": null,
            "overflow_y": null,
            "padding": null,
            "right": null,
            "top": null,
            "visibility": null,
            "width": null
          }
        },
        "cf8d9d728ec2422680bf4aa044e431bd": {
          "model_module": "@jupyter-widgets/controls",
          "model_name": "ProgressStyleModel",
          "model_module_version": "1.5.0",
          "state": {
            "_model_module": "@jupyter-widgets/controls",
            "_model_module_version": "1.5.0",
            "_model_name": "ProgressStyleModel",
            "_view_count": null,
            "_view_module": "@jupyter-widgets/base",
            "_view_module_version": "1.2.0",
            "_view_name": "StyleView",
            "bar_color": null,
            "description_width": ""
          }
        },
        "ef3bfa45e3d74cbaa273777889eb18c9": {
          "model_module": "@jupyter-widgets/base",
          "model_name": "LayoutModel",
          "model_module_version": "1.2.0",
          "state": {
            "_model_module": "@jupyter-widgets/base",
            "_model_module_version": "1.2.0",
            "_model_name": "LayoutModel",
            "_view_count": null,
            "_view_module": "@jupyter-widgets/base",
            "_view_module_version": "1.2.0",
            "_view_name": "LayoutView",
            "align_content": null,
            "align_items": null,
            "align_self": null,
            "border": null,
            "bottom": null,
            "display": null,
            "flex": null,
            "flex_flow": null,
            "grid_area": null,
            "grid_auto_columns": null,
            "grid_auto_flow": null,
            "grid_auto_rows": null,
            "grid_column": null,
            "grid_gap": null,
            "grid_row": null,
            "grid_template_areas": null,
            "grid_template_columns": null,
            "grid_template_rows": null,
            "height": null,
            "justify_content": null,
            "justify_items": null,
            "left": null,
            "margin": null,
            "max_height": null,
            "max_width": null,
            "min_height": null,
            "min_width": null,
            "object_fit": null,
            "object_position": null,
            "order": null,
            "overflow": null,
            "overflow_x": null,
            "overflow_y": null,
            "padding": null,
            "right": null,
            "top": null,
            "visibility": null,
            "width": null
          }
        },
        "e7cf3043f3584f72887560a86a52b432": {
          "model_module": "@jupyter-widgets/controls",
          "model_name": "DescriptionStyleModel",
          "model_module_version": "1.5.0",
          "state": {
            "_model_module": "@jupyter-widgets/controls",
            "_model_module_version": "1.5.0",
            "_model_name": "DescriptionStyleModel",
            "_view_count": null,
            "_view_module": "@jupyter-widgets/base",
            "_view_module_version": "1.2.0",
            "_view_name": "StyleView",
            "description_width": ""
          }
        }
      }
    }
  },
  "nbformat": 4,
  "nbformat_minor": 5
}