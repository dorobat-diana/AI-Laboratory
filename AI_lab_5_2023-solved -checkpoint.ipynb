{
 "cells": [
  {
   "cell_type": "markdown",
   "id": "b8210b19",
   "metadata": {},
   "source": [
    "## A.I. Assignment 5\n",
    "\n",
    "## Learning Goals\n",
    "\n",
    "By the end of this lab, you should be able to:\n",
    "* Get more familiar with tensors in pytorch \n",
    "* Create a simple multilayer perceptron model with pytorch\n",
    "* Visualise the parameters\n",
    "\n",
    "\n",
    "### Task\n",
    "\n",
    "Build a fully connected feed forward network that adds two bits. Determine the a propper achitecture for this network (what database you use for this problem? how many layers? how many neurons on each layer? what is the activation function? what is the loss function? etc)\n",
    "\n",
    "Create at least 3 such networks and compare their performance (how accurate they are?, how farst they are trained to get at 1 accuracy?)\n",
    "\n",
    "Display for the best one the weights for each layer.\n"
   ]
  },
  {
   "cell_type": "code",
   "execution_count": 111,
   "id": "e3614e5f",
   "metadata": {},
   "outputs": [],
   "source": [
    "import torch\n",
    "import torch.nn as nn\n",
    "from collections import OrderedDict\n"
   ]
  },
  {
   "cell_type": "code",
   "execution_count": 112,
   "id": "5ee7e7d7",
   "metadata": {},
   "outputs": [],
   "source": [
    "\n",
    "# Create the dataset for binary addition (XOR)\n",
    "data_in = torch.tensor([[0., 0.], [0., 1.], [1., 0.], [1., 1.]])\n",
    "data_target = torch.tensor([[0.], [1.], [1.], [0.]])\n",
    "\n",
    "# Simple Network\n",
    "simple_model = nn.Sequential(OrderedDict([\n",
    "    ('hidden', nn.Linear(2, 2)),\n",
    "    ('sigmoid', nn.Sigmoid()),\n",
    "    ('output', nn.Linear(2, 1)),\n",
    "    ('output_sigmoid', nn.Sigmoid())\n",
    "]))\n",
    "\n",
    "# Medium Network\n",
    "medium_model = nn.Sequential(OrderedDict([\n",
    "    ('hidden1', nn.Linear(2, 4)),\n",
    "    ('relu1', nn.ReLU()),\n",
    "    ('hidden2', nn.Linear(4, 4)),\n",
    "    ('relu2', nn.ReLU()),\n",
    "    ('output', nn.Linear(4, 1)),\n",
    "    ('output_sigmoid', nn.Sigmoid())\n",
    "]))\n",
    "\n",
    "# Complex Network\n",
    "complex_model = nn.Sequential(OrderedDict([\n",
    "    ('hidden1', nn.Linear(2, 6)),\n",
    "    ('relu1', nn.ReLU()),\n",
    "    ('hidden2', nn.Linear(6, 6)),\n",
    "    ('relu2', nn.ReLU()),\n",
    "    ('hidden3', nn.Linear(6, 6)),\n",
    "    ('relu3', nn.ReLU()),\n",
    "    ('output', nn.Linear(6, 1)),\n",
    "    ('output_sigmoid', nn.Sigmoid())\n",
    "]))\n",
    "\n",
    "# Define the loss function and optimizer\n",
    "criterion = nn.MSELoss()\n",
    "simple_optimizer = torch.optim.SGD(simple_model.parameters(), lr=0.1)\n",
    "medium_optimizer = torch.optim.SGD(medium_model.parameters(), lr=0.1)\n",
    "complex_optimizer = torch.optim.SGD(complex_model.parameters(), lr=0.1)\n"
   ]
  },
  {
   "cell_type": "code",
   "execution_count": 113,
   "id": "665ae958",
   "metadata": {},
   "outputs": [
    {
     "name": "stdout",
     "output_type": "stream",
     "text": [
      "Sequential(\n",
      "  (hidden): Linear(in_features=2, out_features=2, bias=True)\n",
      "  (sigmoid): Sigmoid()\n",
      "  (output): Linear(in_features=2, out_features=1, bias=True)\n",
      "  (output_sigmoid): Sigmoid()\n",
      ")\n",
      "Sequential(\n",
      "  (hidden1): Linear(in_features=2, out_features=4, bias=True)\n",
      "  (relu1): ReLU()\n",
      "  (hidden2): Linear(in_features=4, out_features=4, bias=True)\n",
      "  (relu2): ReLU()\n",
      "  (output): Linear(in_features=4, out_features=1, bias=True)\n",
      "  (output_sigmoid): Sigmoid()\n",
      ")\n",
      "Sequential(\n",
      "  (hidden1): Linear(in_features=2, out_features=6, bias=True)\n",
      "  (relu1): ReLU()\n",
      "  (hidden2): Linear(in_features=6, out_features=6, bias=True)\n",
      "  (relu2): ReLU()\n",
      "  (hidden3): Linear(in_features=6, out_features=6, bias=True)\n",
      "  (relu3): ReLU()\n",
      "  (output): Linear(in_features=6, out_features=1, bias=True)\n",
      "  (output_sigmoid): Sigmoid()\n",
      ")\n"
     ]
    }
   ],
   "source": [
    "print(simple_model)\n",
    "print(medium_model)\n",
    "print(complex_model)"
   ]
  },
  {
   "cell_type": "code",
   "execution_count": 114,
   "id": "e26f0d3e",
   "metadata": {},
   "outputs": [
    {
     "name": "stdout",
     "output_type": "stream",
     "text": [
      "tensor([[0., 0.],\n",
      "        [0., 1.],\n",
      "        [1., 0.],\n",
      "        [1., 1.]])\n"
     ]
    }
   ],
   "source": [
    "print(data_in)"
   ]
  },
  {
   "cell_type": "code",
   "execution_count": 115,
   "id": "4fb16bbc",
   "metadata": {},
   "outputs": [
    {
     "name": "stdout",
     "output_type": "stream",
     "text": [
      "tensor([[0.],\n",
      "        [1.],\n",
      "        [1.],\n",
      "        [0.]])\n"
     ]
    }
   ],
   "source": [
    "print(data_target)"
   ]
  },
  {
   "cell_type": "code",
   "execution_count": 116,
   "id": "69d920ed",
   "metadata": {},
   "outputs": [],
   "source": [
    "# your code here\n",
    "criterion = nn.BCELoss()  # Binary cross-entropy loss\n",
    "simple_optimizer = torch.optim.SGD(simple_model.parameters(), lr=0.1)\n",
    "medium_optimizer = torch.optim.SGD(medium_model.parameters(), lr=0.1)\n",
    "complex_optimizer = torch.optim.SGD(complex_model.parameters(), lr=0.1)"
   ]
  },
  {
   "cell_type": "code",
   "execution_count": 117,
   "id": "cde91f6f",
   "metadata": {},
   "outputs": [
    {
     "name": "stdout",
     "output_type": "stream",
     "text": [
      "Training Simple Network...\n",
      "Epoch [100/1000], Loss: 0.6930\n",
      "Epoch [200/1000], Loss: 0.6930\n",
      "Epoch [300/1000], Loss: 0.6929\n",
      "Epoch [400/1000], Loss: 0.6929\n",
      "Epoch [500/1000], Loss: 0.6928\n",
      "Epoch [600/1000], Loss: 0.6928\n",
      "Epoch [700/1000], Loss: 0.6927\n",
      "Epoch [800/1000], Loss: 0.6926\n",
      "Epoch [900/1000], Loss: 0.6925\n",
      "Epoch [1000/1000], Loss: 0.6924\n",
      "Training Medium Network...\n",
      "Epoch [100/1000], Loss: 0.5715\n",
      "Epoch [200/1000], Loss: 0.4955\n",
      "Epoch [300/1000], Loss: 0.4686\n",
      "Epoch [400/1000], Loss: 0.3461\n",
      "Epoch [500/1000], Loss: 0.1139\n",
      "Epoch [600/1000], Loss: 0.0641\n",
      "Epoch [700/1000], Loss: 0.0426\n",
      "Epoch [800/1000], Loss: 0.0318\n",
      "Epoch [900/1000], Loss: 0.0253\n",
      "Epoch [1000/1000], Loss: 0.0209\n",
      "Training Complex Network...\n",
      "Epoch [100/1000], Loss: 0.6829\n",
      "Epoch [200/1000], Loss: 0.5964\n",
      "Epoch [300/1000], Loss: 0.0886\n",
      "Epoch [400/1000], Loss: 0.0185\n",
      "Epoch [500/1000], Loss: 0.0087\n",
      "Epoch [600/1000], Loss: 0.0054\n",
      "Epoch [700/1000], Loss: 0.0038\n",
      "Epoch [800/1000], Loss: 0.0029\n",
      "Epoch [900/1000], Loss: 0.0023\n",
      "Epoch [1000/1000], Loss: 0.0019\n"
     ]
    }
   ],
   "source": [
    "# your code here\n",
    "# Train the model\n",
    "# Training loop\n",
    "def train_model(model, optimizer, criterion, X_train, Y_train, num_epochs=1000):\n",
    "    for epoch in range(num_epochs):\n",
    "        optimizer.zero_grad()\n",
    "        outputs = model(X_train)\n",
    "        loss = criterion(outputs, Y_train)\n",
    "        loss.backward()\n",
    "        optimizer.step()\n",
    "        # Print the loss every 100 epochs\n",
    "        if (epoch + 1) % 100 == 0:\n",
    "            print(f'Epoch [{epoch+1}/{num_epochs}], Loss: {loss.item():.4f}')\n",
    "\n",
    "# Train the models\n",
    "print(\"Training Simple Network...\")\n",
    "train_model(simple_model, simple_optimizer, criterion, data_in, data_target)\n",
    "print(\"Training Medium Network...\")\n",
    "train_model(medium_model, medium_optimizer, criterion,  data_in, data_target)\n",
    "print(\"Training Complex Network...\")\n",
    "train_model(complex_model, complex_optimizer, criterion,  data_in, data_target)"
   ]
  },
  {
   "cell_type": "code",
   "execution_count": 118,
   "id": "dff3ec1a",
   "metadata": {},
   "outputs": [
    {
     "name": "stdout",
     "output_type": "stream",
     "text": [
      "Simple Network Evaluation:\n",
      "Accuracy: tensor(0.5000)\n",
      "Medium Network Evaluation:\n",
      "Accuracy: tensor(1.)\n",
      "Complex Network Evaluation:\n",
      "Accuracy: tensor(1.)\n"
     ]
    }
   ],
   "source": [
    "# your code here\n",
    "# visualize the resuts\n",
    "# Evaluate the models\n",
    "def evaluate_model(model, X_train, Y_train):\n",
    "        outputs = model(X_train)\n",
    "        predicted = torch.round(outputs)\n",
    "        correct = (predicted == Y_train).sum()\n",
    "        total = Y_train.size(0)\n",
    "        accuracy = correct / total\n",
    "        print(\"Accuracy:\", accuracy)\n",
    "\n",
    "print(\"Simple Network Evaluation:\")\n",
    "evaluate_model(simple_model,  data_in, data_target)\n",
    "print(\"Medium Network Evaluation:\")\n",
    "evaluate_model(medium_model, data_in, data_target)\n",
    "print(\"Complex Network Evaluation:\")\n",
    "evaluate_model(complex_model,  data_in, data_target)"
   ]
  },
  {
   "cell_type": "code",
   "execution_count": 119,
   "id": "c1a7518b",
   "metadata": {},
   "outputs": [
    {
     "name": "stdout",
     "output_type": "stream",
     "text": [
      "Weights for Complex Network:\n",
      "hidden1.weight tensor([[ 0.3328, -0.5534],\n",
      "        [ 0.4729,  0.4726],\n",
      "        [-0.4029, -0.6419],\n",
      "        [ 0.5608,  0.4488],\n",
      "        [ 1.2236, -1.1765],\n",
      "        [-1.1477,  1.1891]])\n",
      "hidden1.bias tensor([-3.9376e-01, -4.7306e-01, -3.4606e-01,  8.3419e-01, -3.6913e-04,\n",
      "        -5.1805e-04])\n",
      "hidden2.weight tensor([[-0.3557, -0.2042,  0.0127, -0.3221, -0.2403,  0.3784],\n",
      "        [-0.0561, -0.3706, -0.2121, -0.2849,  0.3570, -0.1158],\n",
      "        [-0.0812, -0.1747, -0.0152, -0.3494,  0.2754, -0.3789],\n",
      "        [ 0.0629, -0.3414, -0.0061, -0.3966, -0.1694,  0.3515],\n",
      "        [ 0.3051,  0.6201,  0.0863,  0.3730, -1.1905, -1.1905],\n",
      "        [ 0.0536,  0.0253, -0.2998,  0.1535, -0.8484, -0.8588]])\n",
      "hidden2.bias tensor([-0.0367,  0.2307, -0.1700, -0.0250,  0.9355,  0.8228])\n",
      "hidden3.weight tensor([[ 0.3160, -0.1843,  0.3170, -0.1174,  1.7316,  1.0492],\n",
      "        [-0.1303,  0.3812, -0.0406,  0.3877,  0.1624,  0.1193],\n",
      "        [ 0.2159, -0.2874,  0.1187, -0.1575, -0.6285, -0.5355],\n",
      "        [-0.2027,  0.2258, -0.4052, -0.2431, -0.1737, -0.1215],\n",
      "        [ 0.0106,  0.2796,  0.0961, -0.2838, -0.8213, -0.7786],\n",
      "        [ 0.3722,  0.3918, -0.1818,  0.1342,  0.4268,  0.0763]])\n",
      "hidden3.bias tensor([ 0.0404, -0.3083,  1.2921,  0.3311,  1.7635, -0.1724])\n",
      "output.weight tensor([[-1.9982,  0.1527,  1.4613,  0.3141,  2.0433, -0.2112]])\n",
      "output.bias tensor([0.3516])\n"
     ]
    }
   ],
   "source": [
    "# your code here\n",
    "# print model wights\n",
    "# Display weights for the best performing model\n",
    "def display_weights(model):\n",
    "    for name, param in model.named_parameters():\n",
    "        print(name, param.data)\n",
    "\n",
    "#print(\"Weights for Simple Network:\")\n",
    "#display_weights(simple_model)\n",
    "#print(\"Weights for Medium Network:\")\n",
    "#display_weights(medium_model)\n",
    "print(\"Weights for Complex Network:\")\n",
    "display_weights(complex_model)"
   ]
  },
  {
   "cell_type": "code",
   "execution_count": null,
   "id": "4cdf09ba",
   "metadata": {},
   "outputs": [],
   "source": []
  },
  {
   "cell_type": "code",
   "execution_count": null,
   "id": "d0bea66c",
   "metadata": {},
   "outputs": [],
   "source": []
  },
  {
   "cell_type": "code",
   "execution_count": null,
   "id": "e29c65a2",
   "metadata": {},
   "outputs": [],
   "source": []
  }
 ],
 "metadata": {
  "kernelspec": {
   "display_name": "Python 3 (ipykernel)",
   "language": "python",
   "name": "python3"
  },
  "language_info": {
   "codemirror_mode": {
    "name": "ipython",
    "version": 3
   },
   "file_extension": ".py",
   "mimetype": "text/x-python",
   "name": "python",
   "nbconvert_exporter": "python",
   "pygments_lexer": "ipython3",
   "version": "3.11.7"
  }
 },
 "nbformat": 4,
 "nbformat_minor": 5
}
