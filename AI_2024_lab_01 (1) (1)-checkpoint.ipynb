{
  "cells": [
    {
      "cell_type": "markdown",
      "source": [
        "# A.I. Assignment 1\n",
        "\n",
        "Set up and familiarize with some Python packages. A simple application with random numbers.\n",
        "\n",
        "For this assignment you have these tasks:\n",
        "1. Prepare the working environment\n",
        "1. Get familiarized with  Numpy (create and manipulate arrays)\n",
        "1. Get familiarized with  Matplotlib  (display various graphics)\n",
        "1. Get familiarized with  Pytorch tensors (creation and manipulation)\n",
        "1. Get familiarized with  PIL/PILLOW (python image library)\n",
        "1. Two applications: Simulate an unfair probability spinner and performe a Monte Carlo Simulation  \n",
        "\n",
        "## Task 1 - Prepare the working environment\n",
        "\n",
        "In order to present the solved tasks from the laboratories a Jupyter notebook is preferred. For this prepare the working environment as follows:  \n",
        "\n",
        "Install Anaconda distribution and navigator. Create a new  environment aiclasses  and inside this environment install: numpy, matplotlib,  pytorch, pillow.\n",
        "\n",
        "Environments in Python are like sandboxes that have different versions of Python and/or packages installed in them. You can create, export, list, remove, and update environments. Anaconda allows easy management for these.\n",
        "Here are the links for the packages’ documentations if you need further references:  \n",
        "\n",
        "[Pytorch](https://pytorch.org/)\n",
        "[Pillow](https://pillow.readthedocs.io/en/stable/)\n",
        "[Numpy](https://numpy.org/)\n",
        "[Matplotlib](https://matplotlib.org/)\n",
        "\n",
        "After these setups install jupyter notebook and launch it. Create a new notebook related to python 3.\n",
        "\n"
      ],
      "metadata": {
        "id": "opposite-dream"
      },
      "id": "opposite-dream"
    },
    {
      "cell_type": "markdown",
      "source": [
        "## Task 2 -- Get familiarized with Numpy (create and manipulate arrays)"
      ],
      "metadata": {
        "id": "injured-telephone"
      },
      "id": "injured-telephone"
    },
    {
      "cell_type": "code",
      "source": [
        "import numpy as np"
      ],
      "outputs": [],
      "execution_count": null,
      "metadata": {
        "id": "protecting-status"
      },
      "id": "protecting-status"
    },
    {
      "cell_type": "code",
      "source": [
        "my_array = np.array([1, 2, 3, 4])\n",
        "# works as it would with a standard list\n",
        "len(my_array)"
      ],
      "outputs": [
        {
          "output_type": "execute_result",
          "data": {
            "text/plain": [
              "4"
            ]
          },
          "metadata": {},
          "execution_count": 2
        }
      ],
      "execution_count": null,
      "metadata": {
        "scrolled": true,
        "colab": {
          "base_uri": "https://localhost:8080/"
        },
        "id": "pharmaceutical-disaster",
        "outputId": "2633f6b5-b452-469b-f16b-52fe25a14749"
      },
      "id": "pharmaceutical-disaster"
    },
    {
      "cell_type": "markdown",
      "source": [
        "The shape array of an array is very useful (we'll see more of it later when we talk about 2D arrays -- matrices -- and higher-dimensional arrays)."
      ],
      "metadata": {
        "id": "precise-safety"
      },
      "id": "precise-safety"
    },
    {
      "cell_type": "code",
      "source": [
        "my_array.shape"
      ],
      "outputs": [
        {
          "output_type": "execute_result",
          "data": {
            "text/plain": [
              "(4,)"
            ]
          },
          "metadata": {},
          "execution_count": 3
        }
      ],
      "execution_count": null,
      "metadata": {
        "colab": {
          "base_uri": "https://localhost:8080/"
        },
        "id": "south-smell",
        "outputId": "b17c477e-ceed-43b2-9d34-9a68c33fbec0"
      },
      "id": "south-smell"
    },
    {
      "cell_type": "markdown",
      "source": [
        "Numpy arrays are typed. This means that by default, all the elements will be assumed to be of the same type (e.g., integer, float, String)."
      ],
      "metadata": {
        "id": "tender-football"
      },
      "id": "tender-football"
    },
    {
      "cell_type": "code",
      "source": [
        "my_array.dtype"
      ],
      "outputs": [
        {
          "output_type": "execute_result",
          "data": {
            "text/plain": [
              "dtype('int64')"
            ]
          },
          "metadata": {},
          "execution_count": 4
        }
      ],
      "execution_count": null,
      "metadata": {
        "colab": {
          "base_uri": "https://localhost:8080/"
        },
        "id": "terminal-loading",
        "outputId": "130078b1-f93c-4318-e54e-70a3d22bf000"
      },
      "id": "terminal-loading"
    },
    {
      "cell_type": "markdown",
      "source": [
        "Numpy arrays have similar functionality as lists! Below, we compute the length, slice the array, and iterate through it (one could identically perform the same with a list)."
      ],
      "metadata": {
        "id": "announced-passenger"
      },
      "id": "announced-passenger"
    },
    {
      "cell_type": "code",
      "source": [
        "print(len(my_array))\n",
        "print(my_array[2:4])\n",
        "for element in my_array:\n",
        "    print(element)"
      ],
      "outputs": [
        {
          "output_type": "stream",
          "name": "stdout",
          "text": [
            "4\n",
            "[3 4]\n",
            "1\n",
            "2\n",
            "3\n",
            "4\n"
          ]
        }
      ],
      "execution_count": null,
      "metadata": {
        "colab": {
          "base_uri": "https://localhost:8080/"
        },
        "id": "brave-buyer",
        "outputId": "135944a4-970f-4f2c-d8ab-109ec3652a50"
      },
      "id": "brave-buyer"
    },
    {
      "cell_type": "markdown",
      "source": [
        "There are two ways to manipulate numpy arrays:\n",
        "\n",
        "1. by using the numpy module's methods (e.g., `np.mean()`)\n",
        "1. by applying the function `np.mean()` with the numpy array as an argument."
      ],
      "metadata": {
        "id": "breathing-premises"
      },
      "id": "breathing-premises"
    },
    {
      "cell_type": "code",
      "source": [
        "print(my_array.mean())\n",
        "print(np.mean(my_array))"
      ],
      "outputs": [
        {
          "output_type": "stream",
          "name": "stdout",
          "text": [
            "2.5\n",
            "2.5\n"
          ]
        }
      ],
      "execution_count": null,
      "metadata": {
        "colab": {
          "base_uri": "https://localhost:8080/"
        },
        "id": "proud-adobe",
        "outputId": "d0419400-3dce-4052-e8f4-ec1a43c2366f"
      },
      "id": "proud-adobe"
    },
    {
      "cell_type": "markdown",
      "source": [
        "There are many other efficient ways to construct numpy arrays. Here are some commonly used numpy array constructors. Read more details in the numpy documentation."
      ],
      "metadata": {
        "id": "deadly-divorce"
      },
      "id": "deadly-divorce"
    },
    {
      "cell_type": "code",
      "source": [
        "np.ones(10) # generates 10 floating point ones"
      ],
      "outputs": [
        {
          "output_type": "execute_result",
          "data": {
            "text/plain": [
              "array([1., 1., 1., 1., 1., 1., 1., 1., 1., 1.])"
            ]
          },
          "metadata": {},
          "execution_count": 7
        }
      ],
      "execution_count": null,
      "metadata": {
        "colab": {
          "base_uri": "https://localhost:8080/"
        },
        "id": "looking-voluntary",
        "outputId": "8039a184-88c3-471d-fd58-cbacb951a5da"
      },
      "id": "looking-voluntary"
    },
    {
      "cell_type": "markdown",
      "source": [
        "Numpy gains a lot of its efficiency from being typed. That is, all elements in the array have the same type, such as integer or floating point. The default type, as can be seen above, is a float. (Each float uses either 32 or 64 bits of memory, depending on if the code is running a 32-bit or 64-bit machine, respectively)."
      ],
      "metadata": {
        "id": "considerable-adaptation"
      },
      "id": "considerable-adaptation"
    },
    {
      "cell_type": "code",
      "source": [
        "np.dtype(float).itemsize # in bytes (remember, 1 byte = 8 bits)"
      ],
      "outputs": [
        {
          "output_type": "execute_result",
          "data": {
            "text/plain": [
              "8"
            ]
          },
          "metadata": {},
          "execution_count": 8
        }
      ],
      "execution_count": null,
      "metadata": {
        "colab": {
          "base_uri": "https://localhost:8080/"
        },
        "id": "cultural-memphis",
        "outputId": "32d2bc94-e687-40c9-921f-74254cb9aeb5"
      },
      "id": "cultural-memphis"
    },
    {
      "cell_type": "code",
      "source": [
        "np.ones(10, dtype='int') # generates 10 integer ones"
      ],
      "outputs": [
        {
          "output_type": "execute_result",
          "data": {
            "text/plain": [
              "array([1, 1, 1, 1, 1, 1, 1, 1, 1, 1])"
            ]
          },
          "metadata": {},
          "execution_count": 9
        }
      ],
      "execution_count": null,
      "metadata": {
        "colab": {
          "base_uri": "https://localhost:8080/"
        },
        "id": "monetary-reset",
        "outputId": "b3f2cb13-865c-4409-a20a-079dd63a484a"
      },
      "id": "monetary-reset"
    },
    {
      "cell_type": "code",
      "source": [
        "np.zeros(10)"
      ],
      "outputs": [
        {
          "output_type": "execute_result",
          "data": {
            "text/plain": [
              "array([0., 0., 0., 0., 0., 0., 0., 0., 0., 0.])"
            ]
          },
          "metadata": {},
          "execution_count": 10
        }
      ],
      "execution_count": null,
      "metadata": {
        "colab": {
          "base_uri": "https://localhost:8080/"
        },
        "id": "illegal-stable",
        "outputId": "0226c3a2-cdc0-4abd-ae1e-9d9f20748c76"
      },
      "id": "illegal-stable"
    },
    {
      "cell_type": "markdown",
      "source": [
        "Often, you will want random numbers. Use the random constructor!"
      ],
      "metadata": {
        "id": "addressed-shadow"
      },
      "id": "addressed-shadow"
    },
    {
      "cell_type": "code",
      "source": [
        "np.random.random(10) # uniform from [0,1]"
      ],
      "outputs": [
        {
          "output_type": "execute_result",
          "data": {
            "text/plain": [
              "array([0.52529037, 0.94220521, 0.11385805, 0.56395422, 0.5692481 ,\n",
              "       0.33431389, 0.15530896, 0.45647773, 0.93598524, 0.93267695])"
            ]
          },
          "metadata": {},
          "execution_count": 11
        }
      ],
      "execution_count": null,
      "metadata": {
        "colab": {
          "base_uri": "https://localhost:8080/"
        },
        "id": "applicable-gross",
        "outputId": "98f5749c-5587-4fc1-9033-58789c62f429"
      },
      "id": "applicable-gross"
    },
    {
      "cell_type": "markdown",
      "source": [
        "You can generate random numbers from a normal distribution with mean 0 and variance 1:"
      ],
      "metadata": {
        "id": "victorian-sitting"
      },
      "id": "victorian-sitting"
    },
    {
      "cell_type": "code",
      "source": [
        "normal_array = np.random.randn(1000)\n",
        "print(\"The sample mean and standard devation are %f and %f, respectively.\" %(np.mean(normal_array), np.std(normal_array)))"
      ],
      "outputs": [
        {
          "output_type": "stream",
          "name": "stdout",
          "text": [
            "The sample mean and standard devation are -0.064295 and 1.013964, respectively.\n"
          ]
        }
      ],
      "execution_count": null,
      "metadata": {
        "colab": {
          "base_uri": "https://localhost:8080/"
        },
        "id": "amended-handy",
        "outputId": "1ef3bef1-9611-4f07-c781-3d9bcc0a7a48"
      },
      "id": "amended-handy"
    },
    {
      "cell_type": "code",
      "source": [
        "len(normal_array)"
      ],
      "outputs": [
        {
          "output_type": "execute_result",
          "data": {
            "text/plain": [
              "1000"
            ]
          },
          "metadata": {},
          "execution_count": 13
        }
      ],
      "execution_count": null,
      "metadata": {
        "colab": {
          "base_uri": "https://localhost:8080/"
        },
        "id": "miniature-thumb",
        "outputId": "b309a50d-de4d-4d22-b1d3-6f8ed85e37db"
      },
      "id": "miniature-thumb"
    },
    {
      "cell_type": "markdown",
      "source": [
        "You can sample with and without replacement from an array. Let's first construct a list with evenly-spaced values:"
      ],
      "metadata": {
        "id": "immune-clinic"
      },
      "id": "immune-clinic"
    },
    {
      "cell_type": "code",
      "source": [
        "grid = np.arange(0., 1.01, 0.1)\n",
        "grid"
      ],
      "outputs": [
        {
          "output_type": "execute_result",
          "data": {
            "text/plain": [
              "array([0. , 0.1, 0.2, 0.3, 0.4, 0.5, 0.6, 0.7, 0.8, 0.9, 1. ])"
            ]
          },
          "metadata": {},
          "execution_count": 14
        }
      ],
      "execution_count": null,
      "metadata": {
        "colab": {
          "base_uri": "https://localhost:8080/"
        },
        "id": "soviet-excerpt",
        "outputId": "10194a7c-c073-4ed4-ee4f-e60624b04dc3"
      },
      "id": "soviet-excerpt"
    },
    {
      "cell_type": "markdown",
      "source": [
        "Without replacement"
      ],
      "metadata": {
        "id": "silver-vertical"
      },
      "id": "silver-vertical"
    },
    {
      "cell_type": "code",
      "source": [
        "np.random.choice(grid, 5, replace=False)"
      ],
      "outputs": [
        {
          "output_type": "execute_result",
          "data": {
            "text/plain": [
              "array([1. , 0.7, 0.1, 0.3, 0.6])"
            ]
          },
          "metadata": {},
          "execution_count": 15
        }
      ],
      "execution_count": null,
      "metadata": {
        "colab": {
          "base_uri": "https://localhost:8080/"
        },
        "id": "tropical-hypothetical",
        "outputId": "c8f55573-27a7-4e71-e7fa-9b15544f4d73"
      },
      "id": "tropical-hypothetical"
    },
    {
      "cell_type": "code",
      "source": [
        "np.random.choice(grid, 20, replace=False)"
      ],
      "outputs": [
        {
          "output_type": "error",
          "ename": "ValueError",
          "evalue": "Cannot take a larger sample than population when 'replace=False'",
          "traceback": [
            "\u001b[0;31m---------------------------------------------------------------------------\u001b[0m",
            "\u001b[0;31mValueError\u001b[0m                                Traceback (most recent call last)",
            "\u001b[0;32m<ipython-input-16-9eae7c9e97b5>\u001b[0m in \u001b[0;36m<cell line: 1>\u001b[0;34m()\u001b[0m\n\u001b[0;32m----> 1\u001b[0;31m \u001b[0mnp\u001b[0m\u001b[0;34m.\u001b[0m\u001b[0mrandom\u001b[0m\u001b[0;34m.\u001b[0m\u001b[0mchoice\u001b[0m\u001b[0;34m(\u001b[0m\u001b[0mgrid\u001b[0m\u001b[0;34m,\u001b[0m \u001b[0;36m20\u001b[0m\u001b[0;34m,\u001b[0m \u001b[0mreplace\u001b[0m\u001b[0;34m=\u001b[0m\u001b[0;32mFalse\u001b[0m\u001b[0;34m)\u001b[0m\u001b[0;34m\u001b[0m\u001b[0;34m\u001b[0m\u001b[0m\n\u001b[0m",
            "\u001b[0;32mmtrand.pyx\u001b[0m in \u001b[0;36mnumpy.random.mtrand.RandomState.choice\u001b[0;34m()\u001b[0m\n",
            "\u001b[0;31mValueError\u001b[0m: Cannot take a larger sample than population when 'replace=False'"
          ]
        }
      ],
      "execution_count": null,
      "metadata": {
        "colab": {
          "base_uri": "https://localhost:8080/",
          "height": 176
        },
        "id": "vulnerable-regular",
        "outputId": "4cb7dc3c-5367-4c6b-fd90-44c2f90a9b70"
      },
      "id": "vulnerable-regular"
    },
    {
      "cell_type": "markdown",
      "source": [
        "With replacement:"
      ],
      "metadata": {
        "id": "devoted-president"
      },
      "id": "devoted-president"
    },
    {
      "cell_type": "code",
      "source": [
        "np.random.choice(grid, 20, replace=True)"
      ],
      "outputs": [
        {
          "output_type": "execute_result",
          "data": {
            "text/plain": [
              "array([0.3, 0.4, 0.2, 0.4, 0.8, 0. , 0. , 0.3, 0.3, 0. , 0.1, 0.8, 0.8,\n",
              "       0.7, 0.8, 0.3, 1. , 0. , 1. , 0.5])"
            ]
          },
          "metadata": {},
          "execution_count": 17
        }
      ],
      "execution_count": null,
      "metadata": {
        "colab": {
          "base_uri": "https://localhost:8080/"
        },
        "id": "convertible-rider",
        "outputId": "36dd5c90-343a-4cf9-bef1-eabef47984c9"
      },
      "id": "convertible-rider"
    },
    {
      "cell_type": "markdown",
      "source": [
        "Let's create 1,000 points between -10 and 10"
      ],
      "metadata": {
        "id": "equipped-embassy"
      },
      "id": "equipped-embassy"
    },
    {
      "cell_type": "code",
      "source": [
        "x = np.linspace(-10, 10, 1000) # linspace() returns evenly-spaced numbers over a specified interval\n",
        "x[-5:], x[:5]"
      ],
      "outputs": [
        {
          "output_type": "execute_result",
          "data": {
            "text/plain": [
              "(array([ 9.91991992,  9.93993994,  9.95995996,  9.97997998, 10.        ]),\n",
              " array([-10.        ,  -9.97997998,  -9.95995996,  -9.93993994,\n",
              "         -9.91991992]))"
            ]
          },
          "metadata": {},
          "execution_count": 18
        }
      ],
      "execution_count": null,
      "metadata": {
        "colab": {
          "base_uri": "https://localhost:8080/"
        },
        "id": "descending-motivation",
        "outputId": "a997f2cf-096f-431d-fe5a-217a1c56b311"
      },
      "id": "descending-motivation"
    },
    {
      "cell_type": "markdown",
      "source": [
        "## Task 3 -- Get familiarized with  Matplotlib  (display various graphics)"
      ],
      "metadata": {
        "id": "intensive-ceremony"
      },
      "id": "intensive-ceremony"
    },
    {
      "cell_type": "markdown",
      "source": [
        "The plot() function is used to draw points (markers) in a diagram. By default, the plot() function draws a line from point to point. The function takes parameters for specifying points in the diagram. Parameter 1 is an array containing the points on the x-axis. Parameter 2 is an array containing the points on the y-axis."
      ],
      "metadata": {
        "id": "union-collins"
      },
      "id": "union-collins"
    },
    {
      "cell_type": "code",
      "source": [
        "import matplotlib.pyplot as plt\n",
        "x = [1, 2]\n",
        "y = [1, 5]\n",
        "plt.plot(x, y)\n",
        "plt.show()"
      ],
      "outputs": [
        {
          "output_type": "display_data",
          "data": {
            "text/plain": [
              "<Figure size 640x480 with 1 Axes>"
            ],
            "image/png": "[encoded data removed]"
          },
          "metadata": {}
        }
      ],
      "execution_count": null,
      "metadata": {
        "colab": {
          "base_uri": "https://localhost:8080/",
          "height": 430
        },
        "id": "interracial-prince",
        "outputId": "82feb43d-efcb-4b59-9035-6937e3ba6492"
      },
      "id": "interracial-prince"
    },
    {
      "cell_type": "markdown",
      "source": [
        "*Other example where we modify the line style and the color:*"
      ],
      "metadata": {
        "id": "hawaiian-danish"
      },
      "id": "hawaiian-danish"
    },
    {
      "cell_type": "code",
      "source": [
        "import matplotlib.pyplot as plt\n",
        "import numpy as np\n",
        "x = np.random.randint(low=1, high=20, size=30)\n",
        "plt.plot(x, color = 'blue', linewidth=1, linestyle='dashed')\n",
        "plt.show()"
      ],
      "outputs": [
        {
          "output_type": "display_data",
          "data": {
            "text/plain": [
              "<Figure size 640x480 with 1 Axes>"
            ],
            "image/png": "[encoded data removed]"
          },
          "metadata": {}
        }
      ],
      "execution_count": null,
      "metadata": {
        "colab": {
          "base_uri": "https://localhost:8080/",
          "height": 430
        },
        "id": "central-maine",
        "outputId": "d6f91e28-ecd4-4314-9ce5-b63c2f203678"
      },
      "id": "central-maine"
    },
    {
      "cell_type": "markdown",
      "source": [
        "## Task 4 -- Get familiarized with Pytorch tensors (creation and manipulation)"
      ],
      "metadata": {
        "id": "norman-speech"
      },
      "id": "norman-speech"
    },
    {
      "cell_type": "code",
      "source": [
        "import torch"
      ],
      "outputs": [],
      "execution_count": null,
      "metadata": {
        "id": "colored-civilization"
      },
      "id": "colored-civilization"
    },
    {
      "cell_type": "markdown",
      "source": [
        " ***Creation Examples:***"
      ],
      "metadata": {
        "id": "mineral-assembly"
      },
      "id": "mineral-assembly"
    },
    {
      "cell_type": "code",
      "source": [
        "x = torch.empty(3, 4)\n",
        "print(type(x))\n",
        "print(x)\n"
      ],
      "outputs": [
        {
          "output_type": "stream",
          "name": "stdout",
          "text": [
            "<class 'torch.Tensor'>\n",
            "tensor([[1.3563e-19, 1.3563e-19, 1.3563e-19, 1.6854e+22],\n",
            "        [3.9168e-02, 1.1706e-19, 1.3563e-19, 1.3563e-19],\n",
            "        [1.3563e-19, 1.2686e+31, 5.2392e-11, 3.9110e-02]])\n"
          ]
        }
      ],
      "execution_count": null,
      "metadata": {
        "colab": {
          "base_uri": "https://localhost:8080/"
        },
        "id": "adolescent-adelaide",
        "outputId": "72ebdde7-c19f-4bdc-ca71-e74f43ae1e61"
      },
      "id": "adolescent-adelaide"
    },
    {
      "cell_type": "code",
      "source": [
        "zeros = torch.zeros(2, 3)\n",
        "print(zeros)"
      ],
      "outputs": [
        {
          "output_type": "stream",
          "name": "stdout",
          "text": [
            "tensor([[0., 0., 0.],\n",
            "        [0., 0., 0.]])\n"
          ]
        }
      ],
      "execution_count": null,
      "metadata": {
        "colab": {
          "base_uri": "https://localhost:8080/"
        },
        "id": "surface-harvest",
        "outputId": "086a813d-f39b-4a51-ced1-1bc6eac4d846"
      },
      "id": "surface-harvest"
    },
    {
      "cell_type": "code",
      "source": [
        "ones = torch.ones(2, 3)\n",
        "print(ones)"
      ],
      "outputs": [
        {
          "output_type": "stream",
          "name": "stdout",
          "text": [
            "tensor([[1., 1., 1.],\n",
            "        [1., 1., 1.]])\n"
          ]
        }
      ],
      "execution_count": null,
      "metadata": {
        "colab": {
          "base_uri": "https://localhost:8080/"
        },
        "id": "forty-aviation",
        "outputId": "eff2d387-9830-4982-c20e-e74250cf8341"
      },
      "id": "forty-aviation"
    },
    {
      "cell_type": "code",
      "source": [
        "torch.manual_seed(1729)\n",
        "random = torch.rand(2, 3)\n",
        "print(random)"
      ],
      "outputs": [
        {
          "output_type": "stream",
          "name": "stdout",
          "text": [
            "tensor([[0.3126, 0.3791, 0.3087],\n",
            "        [0.0736, 0.4216, 0.0691]])\n"
          ]
        }
      ],
      "execution_count": null,
      "metadata": {
        "colab": {
          "base_uri": "https://localhost:8080/"
        },
        "id": "consecutive-programming",
        "outputId": "da36f9bb-2c08-4909-eabb-251f9ce5445e"
      },
      "id": "consecutive-programming"
    },
    {
      "cell_type": "markdown",
      "source": [
        "Observe the last example with the seed specified. Run the following example and observe the “random” values generated:"
      ],
      "metadata": {
        "id": "vocational-tuition"
      },
      "id": "vocational-tuition"
    },
    {
      "cell_type": "code",
      "source": [
        "torch.manual_seed(1)\n",
        "random1 = torch.rand(2, 3)\n",
        "print(random1)\n",
        "\n",
        "random2 = torch.rand(2, 3)\n",
        "print(random2)\n",
        "\n",
        "torch.manual_seed(1)\n",
        "random3 = torch.rand(2, 3)\n",
        "print(random3)\n",
        "\n",
        "random4 = torch.rand(2, 3)\n",
        "print(random4)"
      ],
      "outputs": [
        {
          "output_type": "stream",
          "name": "stdout",
          "text": [
            "tensor([[0.7576, 0.2793, 0.4031],\n",
            "        [0.7347, 0.0293, 0.7999]])\n",
            "tensor([[0.3971, 0.7544, 0.5695],\n",
            "        [0.4388, 0.6387, 0.5247]])\n",
            "tensor([[0.7576, 0.2793, 0.4031],\n",
            "        [0.7347, 0.0293, 0.7999]])\n",
            "tensor([[0.3971, 0.7544, 0.5695],\n",
            "        [0.4388, 0.6387, 0.5247]])\n"
          ]
        }
      ],
      "execution_count": null,
      "metadata": {
        "colab": {
          "base_uri": "https://localhost:8080/"
        },
        "id": "billion-sunday",
        "outputId": "269598df-f466-4b8d-9493-ec89c2031bb4"
      },
      "id": "billion-sunday"
    },
    {
      "cell_type": "markdown",
      "source": [
        "***Tensor Shapes***\n",
        "\n",
        "On performing operations on two or more tensors, they will need to be of the same shape - that is, having the same number of dimensions and the same number of cells in each dimension. For that, we have the `torch.*_like()` methods:\n"
      ],
      "metadata": {
        "id": "whole-immigration"
      },
      "id": "whole-immigration"
    },
    {
      "cell_type": "code",
      "source": [
        "x = torch.empty(2, 2, 3)\n",
        "print(x.shape)\n",
        "print(x)\n",
        "\n",
        "empty_like_x = torch.empty_like(x)\n",
        "print(empty_like_x.shape)\n",
        "print(empty_like_x)\n",
        "\n",
        "zeros_like_x = torch.zeros_like(x)\n",
        "print(zeros_like_x.shape)\n",
        "print(zeros_like_x)\n",
        "\n",
        "ones_like_x = torch.ones_like(x)\n",
        "print(ones_like_x.shape)\n",
        "print(ones_like_x)\n",
        "\n",
        "rand_like_x = torch.rand_like(x)\n",
        "print(rand_like_x.shape)\n",
        "print(rand_like_x)\n"
      ],
      "outputs": [
        {
          "output_type": "stream",
          "name": "stdout",
          "text": [
            "torch.Size([2, 2, 3])\n",
            "tensor([[[-1.6532e+00,  7.0065e-45, -1.0842e-19],\n",
            "         [ 1.8136e+00, -3.6893e+19,  1.7674e+00]],\n",
            "\n",
            "        [[ 0.0000e+00,  1.7194e+00,  0.0000e+00],\n",
            "         [ 1.7847e+00,  1.0842e-19,  1.7562e+00]]])\n",
            "torch.Size([2, 2, 3])\n",
            "tensor([[[4.0220e-04, 3.2999e-41, 5.4164e-05],\n",
            "         [3.2999e-41, 8.2873e-15, 4.4162e-41]],\n",
            "\n",
            "        [[1.4013e-45, 0.0000e+00, 1.6816e-44],\n",
            "         [0.0000e+00, 0.0000e+00, 0.0000e+00]]])\n",
            "torch.Size([2, 2, 3])\n",
            "tensor([[[0., 0., 0.],\n",
            "         [0., 0., 0.]],\n",
            "\n",
            "        [[0., 0., 0.],\n",
            "         [0., 0., 0.]]])\n",
            "torch.Size([2, 2, 3])\n",
            "tensor([[[1., 1., 1.],\n",
            "         [1., 1., 1.]],\n",
            "\n",
            "        [[1., 1., 1.],\n",
            "         [1., 1., 1.]]])\n",
            "torch.Size([2, 2, 3])\n",
            "tensor([[[0.6826, 0.3051, 0.4635],\n",
            "         [0.4550, 0.5725, 0.4980]],\n",
            "\n",
            "        [[0.9371, 0.6556, 0.3138],\n",
            "         [0.1980, 0.4162, 0.2843]]])\n"
          ]
        }
      ],
      "execution_count": null,
      "metadata": {
        "colab": {
          "base_uri": "https://localhost:8080/"
        },
        "id": "nonprofit-fleece",
        "outputId": "f283d2bb-333d-4b69-cbfc-89c294ac022e"
      },
      "id": "nonprofit-fleece"
    },
    {
      "cell_type": "markdown",
      "source": [
        "***Moving to GPU***\n",
        "\n",
        "   First, we should check whether a GPU is available, with the is_available() method.\n",
        "\n",
        "   **If you do not have a CUDA-compatible GPU and CUDA drivers installed, the executable cells in this section will not execute any GPU-related code.**\n"
      ],
      "metadata": {
        "id": "detected-committee"
      },
      "id": "detected-committee"
    },
    {
      "cell_type": "code",
      "source": [
        "if torch.cuda.is_available():\n",
        "    print('We have a GPU!')\n",
        "else:\n",
        "    print('Sorry, CPU only.')"
      ],
      "outputs": [
        {
          "output_type": "stream",
          "name": "stdout",
          "text": [
            "We have a GPU!\n"
          ]
        }
      ],
      "execution_count": null,
      "metadata": {
        "colab": {
          "base_uri": "https://localhost:8080/"
        },
        "id": "armed-opposition",
        "outputId": "38c242e8-c92d-493a-d79e-ad4e16ad0482"
      },
      "id": "armed-opposition"
    },
    {
      "cell_type": "markdown",
      "source": [
        "A common way to handle this situation is this:"
      ],
      "metadata": {
        "id": "expressed-minority"
      },
      "id": "expressed-minority"
    },
    {
      "cell_type": "code",
      "source": [
        "if torch.cuda.is_available():\n",
        "    my_device = torch.device('cuda')\n",
        "else:\n",
        "    my_device = torch.device('cpu')\n",
        "print('Device: {}'.format(my_device))\n",
        "\n",
        "x = torch.rand(2, 2, device=my_device)\n",
        "print(x)"
      ],
      "outputs": [
        {
          "output_type": "stream",
          "name": "stdout",
          "text": [
            "Device: cuda\n",
            "tensor([[0.8903, 0.0275],\n",
            "        [0.9031, 0.5386]], device='cuda:0')\n"
          ]
        }
      ],
      "execution_count": null,
      "metadata": {
        "colab": {
          "base_uri": "https://localhost:8080/"
        },
        "id": "healthy-assembly",
        "outputId": "6974eb26-c2db-480e-b731-1c58631d4be5"
      },
      "id": "healthy-assembly"
    },
    {
      "cell_type": "markdown",
      "source": [
        "## Task 5 -- Get familiarized with  PIL/PILLOW (python image library)"
      ],
      "metadata": {
        "id": "blessed-processing"
      },
      "id": "blessed-processing"
    },
    {
      "cell_type": "markdown",
      "source": [
        "A. Display an image with pillow (the image must be in the same folder for these examples to run, and we considered the name of the image file `opera.jpg`):"
      ],
      "metadata": {
        "id": "unauthorized-institution"
      },
      "id": "unauthorized-institution"
    },
    {
      "cell_type": "code",
      "source": [
        "# # load and show an image with Pillow\n",
        "# from PIL import Image\n",
        "# # load the image\n",
        "# image = Image.open('opera.jpg')\n",
        "# # summarize some details about the image\n",
        "# print(image.format)\n",
        "# print(image.mode)\n",
        "# print(image.size)\n",
        "# # show the image\n",
        "# image.show()\n"
      ],
      "outputs": [
        {
          "output_type": "error",
          "ename": "FileNotFoundError",
          "evalue": "[Errno 2] No such file or directory: 'opera.jpg'",
          "traceback": [
            "\u001b[0;31m---------------------------------------------------------------------------\u001b[0m",
            "\u001b[0;31mFileNotFoundError\u001b[0m                         Traceback (most recent call last)",
            "\u001b[0;32m<ipython-input-30-87821d82c689>\u001b[0m in \u001b[0;36m<cell line: 4>\u001b[0;34m()\u001b[0m\n\u001b[1;32m      2\u001b[0m \u001b[0;32mfrom\u001b[0m \u001b[0mPIL\u001b[0m \u001b[0;32mimport\u001b[0m \u001b[0mImage\u001b[0m\u001b[0;34m\u001b[0m\u001b[0;34m\u001b[0m\u001b[0m\n\u001b[1;32m      3\u001b[0m \u001b[0;31m# load the image\u001b[0m\u001b[0;34m\u001b[0m\u001b[0;34m\u001b[0m\u001b[0m\n\u001b[0;32m----> 4\u001b[0;31m \u001b[0mimage\u001b[0m \u001b[0;34m=\u001b[0m \u001b[0mImage\u001b[0m\u001b[0;34m.\u001b[0m\u001b[0mopen\u001b[0m\u001b[0;34m(\u001b[0m\u001b[0;34m'opera.jpg'\u001b[0m\u001b[0;34m)\u001b[0m\u001b[0;34m\u001b[0m\u001b[0;34m\u001b[0m\u001b[0m\n\u001b[0m\u001b[1;32m      5\u001b[0m \u001b[0;31m# summarize some details about the image\u001b[0m\u001b[0;34m\u001b[0m\u001b[0;34m\u001b[0m\u001b[0m\n\u001b[1;32m      6\u001b[0m \u001b[0mprint\u001b[0m\u001b[0;34m(\u001b[0m\u001b[0mimage\u001b[0m\u001b[0;34m.\u001b[0m\u001b[0mformat\u001b[0m\u001b[0;34m)\u001b[0m\u001b[0;34m\u001b[0m\u001b[0;34m\u001b[0m\u001b[0m\n",
            "\u001b[0;32m/usr/local/lib/python3.10/dist-packages/PIL/Image.py\u001b[0m in \u001b[0;36mopen\u001b[0;34m(fp, mode, formats)\u001b[0m\n\u001b[1;32m   3225\u001b[0m \u001b[0;34m\u001b[0m\u001b[0m\n\u001b[1;32m   3226\u001b[0m     \u001b[0;32mif\u001b[0m \u001b[0mfilename\u001b[0m\u001b[0;34m:\u001b[0m\u001b[0;34m\u001b[0m\u001b[0;34m\u001b[0m\u001b[0m\n\u001b[0;32m-> 3227\u001b[0;31m         \u001b[0mfp\u001b[0m \u001b[0;34m=\u001b[0m \u001b[0mbuiltins\u001b[0m\u001b[0;34m.\u001b[0m\u001b[0mopen\u001b[0m\u001b[0;34m(\u001b[0m\u001b[0mfilename\u001b[0m\u001b[0;34m,\u001b[0m \u001b[0;34m\"rb\"\u001b[0m\u001b[0;34m)\u001b[0m\u001b[0;34m\u001b[0m\u001b[0;34m\u001b[0m\u001b[0m\n\u001b[0m\u001b[1;32m   3228\u001b[0m         \u001b[0mexclusive_fp\u001b[0m \u001b[0;34m=\u001b[0m \u001b[0;32mTrue\u001b[0m\u001b[0;34m\u001b[0m\u001b[0;34m\u001b[0m\u001b[0m\n\u001b[1;32m   3229\u001b[0m \u001b[0;34m\u001b[0m\u001b[0m\n",
            "\u001b[0;31mFileNotFoundError\u001b[0m: [Errno 2] No such file or directory: 'opera.jpg'"
          ]
        }
      ],
      "execution_count": null,
      "metadata": {
        "colab": {
          "base_uri": "https://localhost:8080/",
          "height": 332
        },
        "id": "hearing-ecuador",
        "outputId": "5c4ca19f-f4ef-4d1e-9356-7a5b618a5902"
      },
      "id": "hearing-ecuador"
    },
    {
      "cell_type": "markdown",
      "source": [
        "B. Convert the image to a numpy array:"
      ],
      "metadata": {
        "id": "broken-package"
      },
      "id": "broken-package"
    },
    {
      "cell_type": "code",
      "source": [
        "# # load and display an image with Matplotlib\n",
        "# from matplotlib import image\n",
        "# from matplotlib import pyplot\n",
        "# # load image as pixel array\n",
        "# data = image.imread('opera.jpg')\n",
        "# # summarize shape of the pixel array\n",
        "# print(data.dtype)\n",
        "# print(data.shape)\n",
        "# # display the array of pixels as an image\n",
        "# pyplot.imshow(data)\n",
        "# pyplot.show()"
      ],
      "outputs": [
        {
          "output_type": "error",
          "ename": "FileNotFoundError",
          "evalue": "[Errno 2] No such file or directory: 'opera.jpg'",
          "traceback": [
            "\u001b[0;31m---------------------------------------------------------------------------\u001b[0m",
            "\u001b[0;31mFileNotFoundError\u001b[0m                         Traceback (most recent call last)",
            "\u001b[0;32m<ipython-input-31-a5bbc4055c93>\u001b[0m in \u001b[0;36m<cell line: 5>\u001b[0;34m()\u001b[0m\n\u001b[1;32m      3\u001b[0m \u001b[0;32mfrom\u001b[0m \u001b[0mmatplotlib\u001b[0m \u001b[0;32mimport\u001b[0m \u001b[0mpyplot\u001b[0m\u001b[0;34m\u001b[0m\u001b[0;34m\u001b[0m\u001b[0m\n\u001b[1;32m      4\u001b[0m \u001b[0;31m# load image as pixel array\u001b[0m\u001b[0;34m\u001b[0m\u001b[0;34m\u001b[0m\u001b[0m\n\u001b[0;32m----> 5\u001b[0;31m \u001b[0mdata\u001b[0m \u001b[0;34m=\u001b[0m \u001b[0mimage\u001b[0m\u001b[0;34m.\u001b[0m\u001b[0mimread\u001b[0m\u001b[0;34m(\u001b[0m\u001b[0;34m'opera.jpg'\u001b[0m\u001b[0;34m)\u001b[0m\u001b[0;34m\u001b[0m\u001b[0;34m\u001b[0m\u001b[0m\n\u001b[0m\u001b[1;32m      6\u001b[0m \u001b[0;31m# summarize shape of the pixel array\u001b[0m\u001b[0;34m\u001b[0m\u001b[0;34m\u001b[0m\u001b[0m\n\u001b[1;32m      7\u001b[0m \u001b[0mprint\u001b[0m\u001b[0;34m(\u001b[0m\u001b[0mdata\u001b[0m\u001b[0;34m.\u001b[0m\u001b[0mdtype\u001b[0m\u001b[0;34m)\u001b[0m\u001b[0;34m\u001b[0m\u001b[0;34m\u001b[0m\u001b[0m\n",
            "\u001b[0;32m/usr/local/lib/python3.10/dist-packages/matplotlib/image.py\u001b[0m in \u001b[0;36mimread\u001b[0;34m(fname, format)\u001b[0m\n\u001b[1;32m   1561\u001b[0m             \u001b[0;34m\"``np.array(PIL.Image.open(urllib.request.urlopen(url)))``.\"\u001b[0m\u001b[0;34m\u001b[0m\u001b[0;34m\u001b[0m\u001b[0m\n\u001b[1;32m   1562\u001b[0m             )\n\u001b[0;32m-> 1563\u001b[0;31m     \u001b[0;32mwith\u001b[0m \u001b[0mimg_open\u001b[0m\u001b[0;34m(\u001b[0m\u001b[0mfname\u001b[0m\u001b[0;34m)\u001b[0m \u001b[0;32mas\u001b[0m \u001b[0mimage\u001b[0m\u001b[0;34m:\u001b[0m\u001b[0;34m\u001b[0m\u001b[0;34m\u001b[0m\u001b[0m\n\u001b[0m\u001b[1;32m   1564\u001b[0m         return (_pil_png_to_float_array(image)\n\u001b[1;32m   1565\u001b[0m                 \u001b[0;32mif\u001b[0m \u001b[0misinstance\u001b[0m\u001b[0;34m(\u001b[0m\u001b[0mimage\u001b[0m\u001b[0;34m,\u001b[0m \u001b[0mPIL\u001b[0m\u001b[0;34m.\u001b[0m\u001b[0mPngImagePlugin\u001b[0m\u001b[0;34m.\u001b[0m\u001b[0mPngImageFile\u001b[0m\u001b[0;34m)\u001b[0m \u001b[0;32melse\u001b[0m\u001b[0;34m\u001b[0m\u001b[0;34m\u001b[0m\u001b[0m\n",
            "\u001b[0;32m/usr/local/lib/python3.10/dist-packages/PIL/Image.py\u001b[0m in \u001b[0;36mopen\u001b[0;34m(fp, mode, formats)\u001b[0m\n\u001b[1;32m   3225\u001b[0m \u001b[0;34m\u001b[0m\u001b[0m\n\u001b[1;32m   3226\u001b[0m     \u001b[0;32mif\u001b[0m \u001b[0mfilename\u001b[0m\u001b[0;34m:\u001b[0m\u001b[0;34m\u001b[0m\u001b[0;34m\u001b[0m\u001b[0m\n\u001b[0;32m-> 3227\u001b[0;31m         \u001b[0mfp\u001b[0m \u001b[0;34m=\u001b[0m \u001b[0mbuiltins\u001b[0m\u001b[0;34m.\u001b[0m\u001b[0mopen\u001b[0m\u001b[0;34m(\u001b[0m\u001b[0mfilename\u001b[0m\u001b[0;34m,\u001b[0m \u001b[0;34m\"rb\"\u001b[0m\u001b[0;34m)\u001b[0m\u001b[0;34m\u001b[0m\u001b[0;34m\u001b[0m\u001b[0m\n\u001b[0m\u001b[1;32m   3228\u001b[0m         \u001b[0mexclusive_fp\u001b[0m \u001b[0;34m=\u001b[0m \u001b[0;32mTrue\u001b[0m\u001b[0;34m\u001b[0m\u001b[0;34m\u001b[0m\u001b[0m\n\u001b[1;32m   3229\u001b[0m \u001b[0;34m\u001b[0m\u001b[0m\n",
            "\u001b[0;31mFileNotFoundError\u001b[0m: [Errno 2] No such file or directory: 'opera.jpg'"
          ]
        }
      ],
      "execution_count": null,
      "metadata": {
        "id": "abstract-proportion",
        "outputId": "0ba6951c-4728-44ca-cb79-9122ac0014a0",
        "colab": {
          "base_uri": "https://localhost:8080/",
          "height": 356
        }
      },
      "id": "abstract-proportion"
    },
    {
      "cell_type": "markdown",
      "source": [
        "C. Resize an image to a specific dimension:"
      ],
      "metadata": {
        "id": "respective-relief"
      },
      "id": "respective-relief"
    },
    {
      "cell_type": "code",
      "source": [
        "# # create a thumbnail of an image\n",
        "# from PIL import Image\n",
        "# # load the image\n",
        "# image = Image.open('opera.jpg')\n",
        "# # report the size of the image\n",
        "# print(image.size)\n",
        "# # create a thumbnail and preserve aspect ratio\n",
        "# image.thumbnail((100,100))\n",
        "# # report the size of the thumbnail\n",
        "# print(image.size)"
      ],
      "outputs": [
        {
          "output_type": "error",
          "ename": "FileNotFoundError",
          "evalue": "[Errno 2] No such file or directory: 'opera.jpg'",
          "traceback": [
            "\u001b[0;31m---------------------------------------------------------------------------\u001b[0m",
            "\u001b[0;31mFileNotFoundError\u001b[0m                         Traceback (most recent call last)",
            "\u001b[0;32m<ipython-input-32-ca10972cfd4c>\u001b[0m in \u001b[0;36m<cell line: 4>\u001b[0;34m()\u001b[0m\n\u001b[1;32m      2\u001b[0m \u001b[0;32mfrom\u001b[0m \u001b[0mPIL\u001b[0m \u001b[0;32mimport\u001b[0m \u001b[0mImage\u001b[0m\u001b[0;34m\u001b[0m\u001b[0;34m\u001b[0m\u001b[0m\n\u001b[1;32m      3\u001b[0m \u001b[0;31m# load the image\u001b[0m\u001b[0;34m\u001b[0m\u001b[0;34m\u001b[0m\u001b[0m\n\u001b[0;32m----> 4\u001b[0;31m \u001b[0mimage\u001b[0m \u001b[0;34m=\u001b[0m \u001b[0mImage\u001b[0m\u001b[0;34m.\u001b[0m\u001b[0mopen\u001b[0m\u001b[0;34m(\u001b[0m\u001b[0;34m'opera.jpg'\u001b[0m\u001b[0;34m)\u001b[0m\u001b[0;34m\u001b[0m\u001b[0;34m\u001b[0m\u001b[0m\n\u001b[0m\u001b[1;32m      5\u001b[0m \u001b[0;31m# report the size of the image\u001b[0m\u001b[0;34m\u001b[0m\u001b[0;34m\u001b[0m\u001b[0m\n\u001b[1;32m      6\u001b[0m \u001b[0mprint\u001b[0m\u001b[0;34m(\u001b[0m\u001b[0mimage\u001b[0m\u001b[0;34m.\u001b[0m\u001b[0msize\u001b[0m\u001b[0;34m)\u001b[0m\u001b[0;34m\u001b[0m\u001b[0;34m\u001b[0m\u001b[0m\n",
            "\u001b[0;32m/usr/local/lib/python3.10/dist-packages/PIL/Image.py\u001b[0m in \u001b[0;36mopen\u001b[0;34m(fp, mode, formats)\u001b[0m\n\u001b[1;32m   3225\u001b[0m \u001b[0;34m\u001b[0m\u001b[0m\n\u001b[1;32m   3226\u001b[0m     \u001b[0;32mif\u001b[0m \u001b[0mfilename\u001b[0m\u001b[0;34m:\u001b[0m\u001b[0;34m\u001b[0m\u001b[0;34m\u001b[0m\u001b[0m\n\u001b[0;32m-> 3227\u001b[0;31m         \u001b[0mfp\u001b[0m \u001b[0;34m=\u001b[0m \u001b[0mbuiltins\u001b[0m\u001b[0;34m.\u001b[0m\u001b[0mopen\u001b[0m\u001b[0;34m(\u001b[0m\u001b[0mfilename\u001b[0m\u001b[0;34m,\u001b[0m \u001b[0;34m\"rb\"\u001b[0m\u001b[0;34m)\u001b[0m\u001b[0;34m\u001b[0m\u001b[0;34m\u001b[0m\u001b[0m\n\u001b[0m\u001b[1;32m   3228\u001b[0m         \u001b[0mexclusive_fp\u001b[0m \u001b[0;34m=\u001b[0m \u001b[0;32mTrue\u001b[0m\u001b[0;34m\u001b[0m\u001b[0;34m\u001b[0m\u001b[0m\n\u001b[1;32m   3229\u001b[0m \u001b[0;34m\u001b[0m\u001b[0m\n",
            "\u001b[0;31mFileNotFoundError\u001b[0m: [Errno 2] No such file or directory: 'opera.jpg'"
          ]
        }
      ],
      "execution_count": null,
      "metadata": {
        "scrolled": true,
        "id": "floral-cooler",
        "outputId": "6f0f0930-c315-4a3d-de7f-e40bf46880a8",
        "colab": {
          "base_uri": "https://localhost:8080/",
          "height": 332
        }
      },
      "id": "floral-cooler"
    },
    {
      "cell_type": "markdown",
      "source": [
        "D. Other operations can be found at the address [How to Load and Manipulate Images for Deep Learning in Python With PIL/Pillow](https://machinelearningmastery.com/how-to-load-and-manipulate-images-for-deep-learning-in-python-with-pil-pillow/)\n"
      ],
      "metadata": {
        "id": "insured-organic"
      },
      "id": "insured-organic"
    },
    {
      "cell_type": "markdown",
      "source": [
        "## Task 6 -- An application: Simulate an unfair probability spinner"
      ],
      "metadata": {
        "id": "armed-biotechnology"
      },
      "id": "armed-biotechnology"
    },
    {
      "cell_type": "markdown",
      "source": [
        "Conside an unfair probability spinner with $n$ slots. Each slot has a probabilty $P_n \\in [0,1]$ and $\\sum_{i=0}^{n-1}P_i = 1$.\n",
        "\n",
        "Write a function that random generate an index $i$ with the probability $P_i$ from the set $\\{0, 1, ..., n\\}$.  "
      ],
      "metadata": {
        "id": "quick-christian"
      },
      "id": "quick-christian"
    },
    {
      "cell_type": "code",
      "source": [
        "import random\n",
        "import numpy as np\n",
        "def spinner(probabilityDistribution):\n",
        "    rand_num=random.random()\n",
        "    print(rand_num)\n",
        "    my_array=np.zeros(len(probabilityDistribution)+1)\n",
        "    for i,prob in enumerate(probabilityDistribution):\n",
        "      my_array[i+1]=my_array[i]+prob\n",
        "    for j,prob in enumerate(my_array):\n",
        "      if rand_num<prob:\n",
        "        return j-1\n",
        "    return -1\n",
        "my_array=[0.2,0.3,0.1,0.4]\n",
        "print(spinner(my_array))"
      ],
      "outputs": [
        {
          "output_type": "stream",
          "name": "stdout",
          "text": [
            "0.37894560030784696\n",
            "1\n"
          ]
        }
      ],
      "execution_count": null,
      "metadata": {
        "id": "together-ownership",
        "colab": {
          "base_uri": "https://localhost:8080/"
        },
        "outputId": "e1d0a0bb-b18e-445d-cb96-2514bde2340e"
      },
      "id": "together-ownership"
    },
    {
      "cell_type": "markdown",
      "source": [],
      "metadata": {
        "id": "PVX7f7RW_f3O"
      },
      "id": "PVX7f7RW_f3O"
    },
    {
      "cell_type": "markdown",
      "source": [
        "The same problem but instead of a distribution of probability the input is a list of natural numbers that holds how many degrees has the center angle $\\theta_i$ corespondent to index $i$.\n",
        "\n",
        "### Example:\n",
        "\n",
        "Consider we have a wheel with 4 slots as in Figure\n",
        "\n",
        "![chart.png](attachment:chart.png)\n",
        "\n",
        "When we spin the wheel we get for example blue index with $12.86\\%$ chances."
      ],
      "metadata": {
        "id": "3be14413"
      },
      "id": "3be14413"
    },
    {
      "cell_type": "code",
      "source": [
        "import random\n",
        "import numpy as np\n",
        "def spinner(probabilityDistribution):\n",
        "    rand_num=random.random()\n",
        "    print(rand_num)\n",
        "    #print(probabilityDistribution)\n",
        "    my_array=np.zeros(len(probabilityDistribution)+1)\n",
        "    for i,prob in enumerate(probabilityDistribution):\n",
        "      my_array[i+1]=my_array[i]+prob/360\n",
        "    #print(my_array)\n",
        "    for j,prob in enumerate(my_array):\n",
        "      if rand_num<prob:\n",
        "        return j-1\n",
        "    return -1\n",
        "my_array=[45,85,70,160]\n",
        "print(spinner(my_array))"
      ],
      "metadata": {
        "colab": {
          "base_uri": "https://localhost:8080/"
        },
        "id": "NEwCReL6CqQU",
        "outputId": "45977aa4-9407-4503-e87c-52707ea02d90"
      },
      "id": "NEwCReL6CqQU",
      "execution_count": null,
      "outputs": [
        {
          "output_type": "stream",
          "name": "stdout",
          "text": [
            "0.6912992418450975\n",
            "3\n"
          ]
        }
      ]
    },
    {
      "cell_type": "markdown",
      "source": [
        "## Task 7 -- Determine some outcomes using Monte Carlo Simulations"
      ],
      "metadata": {
        "id": "c0da82ad"
      },
      "id": "c0da82ad"
    },
    {
      "cell_type": "markdown",
      "source": [
        "Consider a large pipe with a radius $R = 30 cm$ that has the opening pointing straight up, as in the figure. Around this pipe is a rectangular wall with an edge $l = 1m$. Balls of radius $r = 1 cm$ fall down uniformly from above inside the square yard. Compute, using a Monte Carlo simulation, the probability that a ball falls inside the pipe. Compare the results with the mathematically deduced probability.\n",
        "\n",
        "![MCSIM.jpg](attachment:MCSIM.jpg)"
      ],
      "metadata": {
        "id": "5d27f3f8"
      },
      "id": "5d27f3f8"
    },
    {
      "cell_type": "code",
      "source": [
        "import random\n",
        "import math\n",
        "\n",
        "R = 30\n",
        "l = 100\n",
        "r = 1\n",
        "num_simulations = 1000000\n",
        "A_pipe = math.pi * R**2\n",
        "A_yard = l**2\n",
        "\n",
        "def inside_pipe(x, y):\n",
        "    return x**2 + y**2 <= R**2\n",
        "\n",
        "count_inside = 0\n",
        "for _ in range(num_simulations):\n",
        "\n",
        "    x = random.uniform(-l/2, l/2)\n",
        "    y = random.uniform(-l/2, l/2)\n",
        "\n",
        "    if inside_pipe(x, y):\n",
        "        count_inside += 1\n",
        "\n",
        "P_monte_carlo = count_inside / num_simulations\n",
        "\n",
        "P_math = A_pipe / A_yard\n",
        "\n",
        "print(\"Mathematically deduced probability:\", P_math)\n",
        "print(\"Monte Carlo estimated probability:\", P_monte_carlo)\n"
      ],
      "metadata": {
        "colab": {
          "base_uri": "https://localhost:8080/"
        },
        "id": "UwRGKJtUE_fu",
        "outputId": "6a440fd9-c1e7-4537-b51d-e56c160981e8"
      },
      "id": "UwRGKJtUE_fu",
      "execution_count": null,
      "outputs": [
        {
          "output_type": "stream",
          "name": "stdout",
          "text": [
            "Mathematically deduced probability: 0.2827433388230814\n",
            "Monte Carlo estimated probability: 0.28321\n"
          ]
        }
      ]
    }
  ],
  "metadata": {
    "kernelspec": {
      "name": "python3",
      "display_name": "Python 3"
    },
    "language_info": {
      "name": "python"
    },
    "kernel_info": {
      "name": "python"
    },
    "nteract": {
      "version": "nteract-front-end@1.0.0"
    },
    "colab": {
      "provenance": [],
      "gpuType": "T4",
      "cell_execution_strategy": "setup"
    },
    "accelerator": "GPU"
  },
  "nbformat": 4,
  "nbformat_minor": 5
}